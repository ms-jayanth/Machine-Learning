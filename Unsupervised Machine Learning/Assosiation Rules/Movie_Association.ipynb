{
 "cells": [
  {
   "cell_type": "markdown",
   "id": "ed515035",
   "metadata": {},
   "source": [
    "## Association Rules"
   ]
  },
  {
   "cell_type": "markdown",
   "id": "bfbec3b2",
   "metadata": {},
   "source": [
    "## Movies DataSet\n",
    "### Prepare rules and\n",
    "1. Try different values of support and confidence. Observe the change in number of rules for different support,confidence values\n",
    "2. Change the minimum length in apriori algorithm\n",
    "3. Visulize the obtained rules using different plots"
   ]
  },
  {
   "cell_type": "markdown",
   "id": "02bb9f1e",
   "metadata": {},
   "source": [
    "## 1. Import Necessary Libraries"
   ]
  },
  {
   "cell_type": "code",
   "execution_count": null,
   "id": "cab69aa8",
   "metadata": {},
   "outputs": [],
   "source": [
    "import pandas as pd\n",
    "import matplotlib.pyplot as plt\n",
    "import seaborn as sns\n",
    "\n",
    "import warnings\n",
    "warnings.filterwarnings('ignore')\n",
    "\n",
    "from mlxtend.frequent_patterns import apriori, association_rules"
   ]
  },
  {
   "cell_type": "markdown",
   "id": "7a1390e0",
   "metadata": {},
   "source": [
    "## 2. Import Data"
   ]
  },
  {
   "cell_type": "code",
   "execution_count": null,
   "id": "66b2e74a",
   "metadata": {},
   "outputs": [],
   "source": [
    "movies_data=pd.read_csv('my_movies.csv')\n",
    "movies_data"
   ]
  },
  {
   "cell_type": "markdown",
   "id": "296f4a73",
   "metadata": {},
   "source": [
    "## 3. Data Pre-Processing"
   ]
  },
  {
   "cell_type": "code",
   "execution_count": null,
   "id": "56baeabf",
   "metadata": {},
   "outputs": [],
   "source": [
    "movies_data.drop(['V1','V2','V3','V4','V5'], axis=1, inplace=True)"
   ]
  },
  {
   "cell_type": "code",
   "execution_count": null,
   "id": "aa2ed0d1",
   "metadata": {},
   "outputs": [],
   "source": [
    "movies_data"
   ]
  },
  {
   "cell_type": "markdown",
   "id": "d5ab6127",
   "metadata": {},
   "source": [
    "## 4. Initial Analysis"
   ]
  },
  {
   "cell_type": "code",
   "execution_count": null,
   "id": "92991e4c",
   "metadata": {},
   "outputs": [],
   "source": [
    "movies_data.shape"
   ]
  },
  {
   "cell_type": "code",
   "execution_count": null,
   "id": "952c7a5b",
   "metadata": {},
   "outputs": [],
   "source": [
    "movies_data.isna().sum()"
   ]
  },
  {
   "cell_type": "code",
   "execution_count": null,
   "id": "fd51ffa6",
   "metadata": {},
   "outputs": [],
   "source": [
    "movies_data.dtypes"
   ]
  },
  {
   "cell_type": "code",
   "execution_count": null,
   "id": "4710bc53",
   "metadata": {},
   "outputs": [],
   "source": [
    "movies_data.sum()"
   ]
  },
  {
   "cell_type": "code",
   "execution_count": null,
   "id": "59cfa922",
   "metadata": {},
   "outputs": [],
   "source": [
    "plt.figure(figsize=(10,6))\n",
    "plt.bar(movies_data.columns, movies_data.sum())\n",
    "plt.title('Movie Counts')\n",
    "plt.xlabel('Movies')\n",
    "plt.show()"
   ]
  },
  {
   "cell_type": "markdown",
   "id": "3a43f7b5",
   "metadata": {},
   "source": [
    "## 5. Model Building"
   ]
  },
  {
   "cell_type": "markdown",
   "id": "812555d1",
   "metadata": {},
   "source": [
    "#### i. 5% Support, 80% Confidence and Lift=1"
   ]
  },
  {
   "cell_type": "code",
   "execution_count": null,
   "id": "52f0242a",
   "metadata": {},
   "outputs": [],
   "source": [
    "freq_movies_1=apriori(df=movies_data,min_support=0.05,use_colnames=True,max_len=None)\n",
    "freq_movies_1"
   ]
  },
  {
   "cell_type": "code",
   "execution_count": null,
   "id": "4eb7dcc3",
   "metadata": {},
   "outputs": [],
   "source": [
    "best_associate=association_rules(df=freq_movies_1,metric='confidence',min_threshold=0.8,)\n",
    "best_associate"
   ]
  },
  {
   "cell_type": "code",
   "execution_count": null,
   "id": "61949fc3",
   "metadata": {},
   "outputs": [],
   "source": [
    "best_associate=best_associate[best_associate['lift']>=1]\n",
    "best_associate"
   ]
  },
  {
   "cell_type": "code",
   "execution_count": null,
   "id": "fecc9a31",
   "metadata": {},
   "outputs": [],
   "source": [
    "plt.figure(figsize=(12,6))\n",
    "plt.scatter(best_associate['support'],y=best_associate['confidence'], c=best_associate['lift'])\n",
    "plt.colorbar()\n",
    "plt.show()"
   ]
  },
  {
   "cell_type": "code",
   "execution_count": null,
   "id": "b016b851",
   "metadata": {},
   "outputs": [],
   "source": [
    "best_associate_pivot=best_associate.pivot(index='consequents', columns='antecedents', values='lift').fillna(0)"
   ]
  },
  {
   "cell_type": "code",
   "execution_count": null,
   "id": "472156dc",
   "metadata": {},
   "outputs": [],
   "source": [
    "plt.figure(figsize=(18,8))\n",
    "sns.heatmap(round(best_associate_pivot,2), annot=True)\n",
    "plt.show()"
   ]
  },
  {
   "cell_type": "markdown",
   "id": "b8897d8b",
   "metadata": {},
   "source": [
    "#### ii. 10 % Support, 80% Confidence anf Lift=1 with Pruning"
   ]
  },
  {
   "cell_type": "code",
   "execution_count": null,
   "id": "db393d0f",
   "metadata": {},
   "outputs": [],
   "source": [
    "freq_movies_1=apriori(df=movies_data,min_support=0.10,use_colnames=True,max_len=3)\n",
    "freq_movies_1"
   ]
  },
  {
   "cell_type": "code",
   "execution_count": null,
   "id": "ed87c7e8",
   "metadata": {},
   "outputs": [],
   "source": [
    "best_associate=association_rules(df=freq_movies_1,metric='confidence',min_threshold=0.8,)\n",
    "best_associate"
   ]
  },
  {
   "cell_type": "code",
   "execution_count": null,
   "id": "355c7382",
   "metadata": {},
   "outputs": [],
   "source": [
    "best_associate=best_associate[best_associate['lift']>=1]\n",
    "best_associate"
   ]
  },
  {
   "cell_type": "code",
   "execution_count": null,
   "id": "d83a8312",
   "metadata": {},
   "outputs": [],
   "source": [
    "plt.figure(figsize=(12,6))\n",
    "plt.scatter(best_associate['support'],y=best_associate['confidence'], c=best_associate['lift'])\n",
    "plt.colorbar()\n",
    "plt.show()"
   ]
  },
  {
   "cell_type": "code",
   "execution_count": null,
   "id": "d04e731a",
   "metadata": {},
   "outputs": [],
   "source": [
    "best_associate_pivot=best_associate.pivot(index='consequents', columns='antecedents', values='lift').fillna(0)"
   ]
  },
  {
   "cell_type": "code",
   "execution_count": null,
   "id": "af8fa803",
   "metadata": {},
   "outputs": [],
   "source": [
    "plt.figure(figsize=(18,8))\n",
    "sns.heatmap(round(best_associate_pivot,2), annot=True)\n",
    "plt.show()"
   ]
  },
  {
   "cell_type": "code",
   "execution_count": null,
   "id": "8c6feb1b",
   "metadata": {},
   "outputs": [],
   "source": [
    "best_associate[(best_associate['confidence']==1) & (best_associate['lift']==10)]"
   ]
  },
  {
   "cell_type": "markdown",
   "id": "45d0a2ab",
   "metadata": {},
   "source": [
    "#### By looking the association rules, it seems that the people who watches Gladiator and Green Mile also watches LOTR"
   ]
  },
  {
   "cell_type": "code",
   "execution_count": null,
   "id": "dca22a11",
   "metadata": {},
   "outputs": [],
   "source": [
    "movies_data.head()"
   ]
  },
  {
   "cell_type": "code",
   "execution_count": null,
   "id": "81e3efe9",
   "metadata": {},
   "outputs": [],
   "source": [
    "movies_data_1=movies_data.iloc[:,:4]\n",
    "movies_data_1=movies_data_1.fillna('null')\n",
    "movies_data_1"
   ]
  },
  {
   "cell_type": "code",
   "execution_count": null,
   "id": "dd2edd30",
   "metadata": {},
   "outputs": [],
   "source": [
    "movies_data_1=movies_data_1.to_numpy().tolist()\n",
    "movies_data_1"
   ]
  },
  {
   "cell_type": "code",
   "execution_count": null,
   "id": "417f03b4",
   "metadata": {},
   "outputs": [],
   "source": [
    "for i in range(0, len(movies_data_1)):\n",
    "    while 'null' in movies_data_1[i]:\n",
    "        movies_data_1[i].remove('null')"
   ]
  },
  {
   "cell_type": "code",
   "execution_count": null,
   "id": "c5cba4e2",
   "metadata": {},
   "outputs": [],
   "source": [
    "movies_data_1"
   ]
  },
  {
   "cell_type": "code",
   "execution_count": null,
   "id": "c27d0046",
   "metadata": {},
   "outputs": [],
   "source": [
    "from mlxtend.preprocessing import TransactionEncoder"
   ]
  },
  {
   "cell_type": "code",
   "execution_count": null,
   "id": "2993caa9",
   "metadata": {},
   "outputs": [],
   "source": [
    "trans_encoder=TransactionEncoder()"
   ]
  },
  {
   "cell_type": "code",
   "execution_count": null,
   "id": "b8af44d6",
   "metadata": {},
   "outputs": [],
   "source": [
    "movies_data_encoded=trans_encoder.fit_transform(movies_data_1)\n",
    "movies_data_encoded=pd.DataFrame(movies_data_encoded, columns=trans_encoder.columns_)\n",
    "movies_data_encoded"
   ]
  },
  {
   "cell_type": "code",
   "execution_count": null,
   "id": "c4178fa0",
   "metadata": {},
   "outputs": [],
   "source": [
    "movies_data_encoded=movies_data_encoded.replace([True, False],[1,0])\n",
    "movies_data_encoded"
   ]
  },
  {
   "cell_type": "code",
   "execution_count": null,
   "id": "7ddb3919",
   "metadata": {},
   "outputs": [],
   "source": [
    "movies_data"
   ]
  },
  {
   "cell_type": "code",
   "execution_count": null,
   "id": "2616fae1",
   "metadata": {},
   "outputs": [],
   "source": []
  }
 ],
 "metadata": {
  "kernelspec": {
   "display_name": "Python 3",
   "language": "python",
   "name": "python3"
  },
  "language_info": {
   "codemirror_mode": {
    "name": "ipython",
    "version": 3
   },
   "file_extension": ".py",
   "mimetype": "text/x-python",
   "name": "python",
   "nbconvert_exporter": "python",
   "pygments_lexer": "ipython3",
   "version": "3.8.8"
  }
 },
 "nbformat": 4,
 "nbformat_minor": 5
}
