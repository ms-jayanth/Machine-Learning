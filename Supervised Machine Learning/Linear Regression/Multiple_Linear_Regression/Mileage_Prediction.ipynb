{
 "cells": [
  {
   "cell_type": "markdown",
   "id": "21955d1f",
   "metadata": {},
   "source": [
    "## 1. Import Necessary Libraries"
   ]
  },
  {
   "cell_type": "code",
   "execution_count": 1,
   "id": "0949bddc",
   "metadata": {},
   "outputs": [],
   "source": [
    "import pandas as pd\n",
    "import matplotlib.pyplot as plt\n",
    "import seaborn as sns\n",
    "\n",
    "import warnings\n",
    "warnings.filterwarnings('ignore')"
   ]
  },
  {
   "cell_type": "markdown",
   "id": "1d6e9c66",
   "metadata": {},
   "source": [
    "## 2. Import Data"
   ]
  },
  {
   "cell_type": "code",
   "execution_count": 2,
   "id": "8f0857b7",
   "metadata": {},
   "outputs": [
    {
     "data": {
      "text/html": [
       "<div>\n",
       "<style scoped>\n",
       "    .dataframe tbody tr th:only-of-type {\n",
       "        vertical-align: middle;\n",
       "    }\n",
       "\n",
       "    .dataframe tbody tr th {\n",
       "        vertical-align: top;\n",
       "    }\n",
       "\n",
       "    .dataframe thead th {\n",
       "        text-align: right;\n",
       "    }\n",
       "</style>\n",
       "<table border=\"1\" class=\"dataframe\">\n",
       "  <thead>\n",
       "    <tr style=\"text-align: right;\">\n",
       "      <th></th>\n",
       "      <th>HP</th>\n",
       "      <th>MPG</th>\n",
       "      <th>VOL</th>\n",
       "      <th>SP</th>\n",
       "      <th>WT</th>\n",
       "    </tr>\n",
       "  </thead>\n",
       "  <tbody>\n",
       "    <tr>\n",
       "      <th>0</th>\n",
       "      <td>49</td>\n",
       "      <td>53.700681</td>\n",
       "      <td>89</td>\n",
       "      <td>104.185353</td>\n",
       "      <td>28.762059</td>\n",
       "    </tr>\n",
       "    <tr>\n",
       "      <th>1</th>\n",
       "      <td>55</td>\n",
       "      <td>50.013401</td>\n",
       "      <td>92</td>\n",
       "      <td>105.461264</td>\n",
       "      <td>30.466833</td>\n",
       "    </tr>\n",
       "    <tr>\n",
       "      <th>2</th>\n",
       "      <td>55</td>\n",
       "      <td>50.013401</td>\n",
       "      <td>92</td>\n",
       "      <td>105.461264</td>\n",
       "      <td>30.193597</td>\n",
       "    </tr>\n",
       "    <tr>\n",
       "      <th>3</th>\n",
       "      <td>70</td>\n",
       "      <td>45.696322</td>\n",
       "      <td>92</td>\n",
       "      <td>113.461264</td>\n",
       "      <td>30.632114</td>\n",
       "    </tr>\n",
       "    <tr>\n",
       "      <th>4</th>\n",
       "      <td>53</td>\n",
       "      <td>50.504232</td>\n",
       "      <td>92</td>\n",
       "      <td>104.461264</td>\n",
       "      <td>29.889149</td>\n",
       "    </tr>\n",
       "    <tr>\n",
       "      <th>...</th>\n",
       "      <td>...</td>\n",
       "      <td>...</td>\n",
       "      <td>...</td>\n",
       "      <td>...</td>\n",
       "      <td>...</td>\n",
       "    </tr>\n",
       "    <tr>\n",
       "      <th>76</th>\n",
       "      <td>322</td>\n",
       "      <td>36.900000</td>\n",
       "      <td>50</td>\n",
       "      <td>169.598513</td>\n",
       "      <td>16.132947</td>\n",
       "    </tr>\n",
       "    <tr>\n",
       "      <th>77</th>\n",
       "      <td>238</td>\n",
       "      <td>19.197888</td>\n",
       "      <td>115</td>\n",
       "      <td>150.576579</td>\n",
       "      <td>37.923113</td>\n",
       "    </tr>\n",
       "    <tr>\n",
       "      <th>78</th>\n",
       "      <td>263</td>\n",
       "      <td>34.000000</td>\n",
       "      <td>50</td>\n",
       "      <td>151.598513</td>\n",
       "      <td>15.769625</td>\n",
       "    </tr>\n",
       "    <tr>\n",
       "      <th>79</th>\n",
       "      <td>295</td>\n",
       "      <td>19.833733</td>\n",
       "      <td>119</td>\n",
       "      <td>167.944460</td>\n",
       "      <td>39.423099</td>\n",
       "    </tr>\n",
       "    <tr>\n",
       "      <th>80</th>\n",
       "      <td>236</td>\n",
       "      <td>12.101263</td>\n",
       "      <td>107</td>\n",
       "      <td>139.840817</td>\n",
       "      <td>34.948615</td>\n",
       "    </tr>\n",
       "  </tbody>\n",
       "</table>\n",
       "<p>81 rows × 5 columns</p>\n",
       "</div>"
      ],
      "text/plain": [
       "     HP        MPG  VOL          SP         WT\n",
       "0    49  53.700681   89  104.185353  28.762059\n",
       "1    55  50.013401   92  105.461264  30.466833\n",
       "2    55  50.013401   92  105.461264  30.193597\n",
       "3    70  45.696322   92  113.461264  30.632114\n",
       "4    53  50.504232   92  104.461264  29.889149\n",
       "..  ...        ...  ...         ...        ...\n",
       "76  322  36.900000   50  169.598513  16.132947\n",
       "77  238  19.197888  115  150.576579  37.923113\n",
       "78  263  34.000000   50  151.598513  15.769625\n",
       "79  295  19.833733  119  167.944460  39.423099\n",
       "80  236  12.101263  107  139.840817  34.948615\n",
       "\n",
       "[81 rows x 5 columns]"
      ]
     },
     "execution_count": 2,
     "metadata": {},
     "output_type": "execute_result"
    }
   ],
   "source": [
    "cars_data=pd.read_csv('Cars (1).csv')\n",
    "cars_data"
   ]
  },
  {
   "cell_type": "markdown",
   "id": "4b8134e9",
   "metadata": {},
   "source": [
    "## 3. Data Understanding\n",
    "\n",
    "Dependent Variable: MPG; Independent Variable: HP, VOL, WT"
   ]
  },
  {
   "cell_type": "markdown",
   "id": "91d907eb",
   "metadata": {},
   "source": [
    "### 3.1 Initial Analysis"
   ]
  },
  {
   "cell_type": "code",
   "execution_count": 3,
   "id": "89cdad76",
   "metadata": {},
   "outputs": [
    {
     "data": {
      "text/plain": [
       "(81, 5)"
      ]
     },
     "execution_count": 3,
     "metadata": {},
     "output_type": "execute_result"
    }
   ],
   "source": [
    "cars_data.shape"
   ]
  },
  {
   "cell_type": "code",
   "execution_count": 4,
   "id": "8e358c1a",
   "metadata": {},
   "outputs": [
    {
     "data": {
      "text/plain": [
       "HP     0\n",
       "MPG    0\n",
       "VOL    0\n",
       "SP     0\n",
       "WT     0\n",
       "dtype: int64"
      ]
     },
     "execution_count": 4,
     "metadata": {},
     "output_type": "execute_result"
    }
   ],
   "source": [
    "cars_data.isna().sum()"
   ]
  },
  {
   "cell_type": "code",
   "execution_count": 5,
   "id": "967f00fc",
   "metadata": {},
   "outputs": [
    {
     "data": {
      "text/plain": [
       "HP       int64\n",
       "MPG    float64\n",
       "VOL      int64\n",
       "SP     float64\n",
       "WT     float64\n",
       "dtype: object"
      ]
     },
     "execution_count": 5,
     "metadata": {},
     "output_type": "execute_result"
    }
   ],
   "source": [
    "cars_data.dtypes"
   ]
  },
  {
   "cell_type": "code",
   "execution_count": 6,
   "id": "3efc161e",
   "metadata": {},
   "outputs": [
    {
     "data": {
      "text/html": [
       "<div>\n",
       "<style scoped>\n",
       "    .dataframe tbody tr th:only-of-type {\n",
       "        vertical-align: middle;\n",
       "    }\n",
       "\n",
       "    .dataframe tbody tr th {\n",
       "        vertical-align: top;\n",
       "    }\n",
       "\n",
       "    .dataframe thead th {\n",
       "        text-align: right;\n",
       "    }\n",
       "</style>\n",
       "<table border=\"1\" class=\"dataframe\">\n",
       "  <thead>\n",
       "    <tr style=\"text-align: right;\">\n",
       "      <th></th>\n",
       "      <th>HP</th>\n",
       "      <th>MPG</th>\n",
       "      <th>VOL</th>\n",
       "      <th>SP</th>\n",
       "      <th>WT</th>\n",
       "    </tr>\n",
       "  </thead>\n",
       "  <tbody>\n",
       "    <tr>\n",
       "      <th>count</th>\n",
       "      <td>81.000000</td>\n",
       "      <td>81.000000</td>\n",
       "      <td>81.000000</td>\n",
       "      <td>81.000000</td>\n",
       "      <td>81.000000</td>\n",
       "    </tr>\n",
       "    <tr>\n",
       "      <th>mean</th>\n",
       "      <td>117.469136</td>\n",
       "      <td>34.422076</td>\n",
       "      <td>98.765432</td>\n",
       "      <td>121.540272</td>\n",
       "      <td>32.412577</td>\n",
       "    </tr>\n",
       "    <tr>\n",
       "      <th>std</th>\n",
       "      <td>57.113502</td>\n",
       "      <td>9.131445</td>\n",
       "      <td>22.301497</td>\n",
       "      <td>14.181432</td>\n",
       "      <td>7.492813</td>\n",
       "    </tr>\n",
       "    <tr>\n",
       "      <th>min</th>\n",
       "      <td>49.000000</td>\n",
       "      <td>12.101263</td>\n",
       "      <td>50.000000</td>\n",
       "      <td>99.564907</td>\n",
       "      <td>15.712859</td>\n",
       "    </tr>\n",
       "    <tr>\n",
       "      <th>25%</th>\n",
       "      <td>84.000000</td>\n",
       "      <td>27.856252</td>\n",
       "      <td>89.000000</td>\n",
       "      <td>113.829145</td>\n",
       "      <td>29.591768</td>\n",
       "    </tr>\n",
       "    <tr>\n",
       "      <th>50%</th>\n",
       "      <td>100.000000</td>\n",
       "      <td>35.152727</td>\n",
       "      <td>101.000000</td>\n",
       "      <td>118.208698</td>\n",
       "      <td>32.734518</td>\n",
       "    </tr>\n",
       "    <tr>\n",
       "      <th>75%</th>\n",
       "      <td>140.000000</td>\n",
       "      <td>39.531633</td>\n",
       "      <td>113.000000</td>\n",
       "      <td>126.404312</td>\n",
       "      <td>37.392524</td>\n",
       "    </tr>\n",
       "    <tr>\n",
       "      <th>max</th>\n",
       "      <td>322.000000</td>\n",
       "      <td>53.700681</td>\n",
       "      <td>160.000000</td>\n",
       "      <td>169.598513</td>\n",
       "      <td>52.997752</td>\n",
       "    </tr>\n",
       "  </tbody>\n",
       "</table>\n",
       "</div>"
      ],
      "text/plain": [
       "               HP        MPG         VOL          SP         WT\n",
       "count   81.000000  81.000000   81.000000   81.000000  81.000000\n",
       "mean   117.469136  34.422076   98.765432  121.540272  32.412577\n",
       "std     57.113502   9.131445   22.301497   14.181432   7.492813\n",
       "min     49.000000  12.101263   50.000000   99.564907  15.712859\n",
       "25%     84.000000  27.856252   89.000000  113.829145  29.591768\n",
       "50%    100.000000  35.152727  101.000000  118.208698  32.734518\n",
       "75%    140.000000  39.531633  113.000000  126.404312  37.392524\n",
       "max    322.000000  53.700681  160.000000  169.598513  52.997752"
      ]
     },
     "execution_count": 6,
     "metadata": {},
     "output_type": "execute_result"
    }
   ],
   "source": [
    "cars_data.describe()"
   ]
  },
  {
   "cell_type": "markdown",
   "id": "9e45ab95",
   "metadata": {},
   "source": [
    "### 3.2 ASSUMPTIONS CHECK"
   ]
  },
  {
   "cell_type": "markdown",
   "id": "76934893",
   "metadata": {},
   "source": [
    "#### 1.Normality Test\n",
    "\n",
    "1. Distplot\n",
    "2. Histogram\n",
    "3. QQ-Plot\n",
    "45. Probability plot"
   ]
  },
  {
   "cell_type": "code",
   "execution_count": 7,
   "id": "5a274ed2",
   "metadata": {},
   "outputs": [
    {
     "data": {
      "image/png": "[encoded data removed]",
      "text/plain": [
       "<Figure size 432x288 with 1 Axes>"
      ]
     },
     "metadata": {
      "needs_background": "light"
     },
     "output_type": "display_data"
    }
   ],
   "source": [
    "sns.distplot(a=cars_data['HP'], hist=False)\n",
    "plt.title('Normality test - HP')\n",
    "plt.show()"
   ]
  },
  {
   "cell_type": "code",
   "execution_count": 8,
   "id": "028cf02a",
   "metadata": {},
   "outputs": [
    {
     "data": {
      "text/plain": [
       "1.7162163889158817"
      ]
     },
     "execution_count": 8,
     "metadata": {},
     "output_type": "execute_result"
    }
   ],
   "source": [
    "cars_data['HP'].skew()"
   ]
  },
  {
   "cell_type": "code",
   "execution_count": 9,
   "id": "e7a635b3",
   "metadata": {},
   "outputs": [
    {
     "data": {
      "text/plain": [
       "2.960024672046334"
      ]
     },
     "execution_count": 9,
     "metadata": {},
     "output_type": "execute_result"
    }
   ],
   "source": [
    "cars_data['HP'].kurtosis()"
   ]
  },
  {
   "cell_type": "code",
   "execution_count": 10,
   "id": "c7e22aa6",
   "metadata": {},
   "outputs": [
    {
     "data": {
      "image/png": "[encoded data removed]",
      "text/plain": [
       "<Figure size 432x288 with 1 Axes>"
      ]
     },
     "metadata": {
      "needs_background": "light"
     },
     "output_type": "display_data"
    }
   ],
   "source": [
    "sns.distplot(a=cars_data['VOL'], hist=False)\n",
    "plt.title('Normality test - VOL')\n",
    "plt.show()"
   ]
  },
  {
   "cell_type": "code",
   "execution_count": 11,
   "id": "1ae5ba10",
   "metadata": {},
   "outputs": [
    {
     "data": {
      "text/plain": [
       "-0.5901968186877561"
      ]
     },
     "execution_count": 11,
     "metadata": {},
     "output_type": "execute_result"
    }
   ],
   "source": [
    "cars_data['VOL'].skew()"
   ]
  },
  {
   "cell_type": "code",
   "execution_count": 12,
   "id": "77ae6e93",
   "metadata": {},
   "outputs": [
    {
     "data": {
      "text/plain": [
       "0.9202285729168072"
      ]
     },
     "execution_count": 12,
     "metadata": {},
     "output_type": "execute_result"
    }
   ],
   "source": [
    "cars_data['VOL'].kurtosis()"
   ]
  },
  {
   "cell_type": "code",
   "execution_count": 13,
   "id": "94a69244",
   "metadata": {},
   "outputs": [
    {
     "data": {
      "image/png": "[encoded data removed]",
      "text/plain": [
       "<Figure size 432x288 with 1 Axes>"
      ]
     },
     "metadata": {
      "needs_background": "light"
     },
     "output_type": "display_data"
    }
   ],
   "source": [
    "sns.distplot(a=cars_data['SP'], hist=False)\n",
    "plt.title('Normality test - SP')\n",
    "plt.show()"
   ]
  },
  {
   "cell_type": "code",
   "execution_count": 14,
   "id": "88d162ec",
   "metadata": {},
   "outputs": [
    {
     "data": {
      "text/plain": [
       "1.6114501961773586"
      ]
     },
     "execution_count": 14,
     "metadata": {},
     "output_type": "execute_result"
    }
   ],
   "source": [
    "cars_data['SP'].skew()"
   ]
  },
  {
   "cell_type": "code",
   "execution_count": 15,
   "id": "a4bdeffd",
   "metadata": {},
   "outputs": [
    {
     "data": {
      "text/plain": [
       "2.9773289437871835"
      ]
     },
     "execution_count": 15,
     "metadata": {},
     "output_type": "execute_result"
    }
   ],
   "source": [
    "cars_data['SP'].kurtosis()"
   ]
  },
  {
   "cell_type": "code",
   "execution_count": 16,
   "id": "51c519c3",
   "metadata": {},
   "outputs": [
    {
     "data": {
      "image/png": "[encoded data removed]",
      "text/plain": [
       "<Figure size 432x288 with 1 Axes>"
      ]
     },
     "metadata": {
      "needs_background": "light"
     },
     "output_type": "display_data"
    }
   ],
   "source": [
    "sns.distplot(a=cars_data['WT'], hist=False)\n",
    "plt.title('Normality test - WT')\n",
    "plt.show()"
   ]
  },
  {
   "cell_type": "code",
   "execution_count": 17,
   "id": "d3d1439a",
   "metadata": {},
   "outputs": [
    {
     "data": {
      "text/plain": [
       "-0.6147533255357768"
      ]
     },
     "execution_count": 17,
     "metadata": {},
     "output_type": "execute_result"
    }
   ],
   "source": [
    "cars_data['WT'].skew()"
   ]
  },
  {
   "cell_type": "code",
   "execution_count": 18,
   "id": "c9ca4fd1",
   "metadata": {},
   "outputs": [
    {
     "data": {
      "text/plain": [
       "0.9502914910300326"
      ]
     },
     "execution_count": 18,
     "metadata": {},
     "output_type": "execute_result"
    }
   ],
   "source": [
    "cars_data['WT'].kurtosis()"
   ]
  },
  {
   "cell_type": "markdown",
   "id": "73f2ba30",
   "metadata": {},
   "source": [
    "#### Normality test is Failed"
   ]
  },
  {
   "cell_type": "markdown",
   "id": "da72ad58",
   "metadata": {},
   "source": [
    "#### Normality Test using Probplot"
   ]
  },
  {
   "cell_type": "code",
   "execution_count": 3,
   "id": "bfc5a71e",
   "metadata": {},
   "outputs": [],
   "source": [
    "from scipy import stats"
   ]
  },
  {
   "cell_type": "code",
   "execution_count": 20,
   "id": "c79b0784",
   "metadata": {},
   "outputs": [
    {
     "data": {
      "image/png": "[encoded data removed]",
      "text/plain": [
       "<Figure size 432x288 with 1 Axes>"
      ]
     },
     "metadata": {
      "needs_background": "light"
     },
     "output_type": "display_data"
    }
   ],
   "source": [
    "stats.probplot(x=cars_data['HP'], dist='norm', plot=plt) #Calculate quantiles for a probability plot, and optionally show the plot.\n",
    "plt.show()"
   ]
  },
  {
   "cell_type": "code",
   "execution_count": 21,
   "id": "6c941c0d",
   "metadata": {},
   "outputs": [
    {
     "data": {
      "image/png": "[encoded data removed]",
      "text/plain": [
       "<Figure size 432x288 with 1 Axes>"
      ]
     },
     "metadata": {
      "needs_background": "light"
     },
     "output_type": "display_data"
    }
   ],
   "source": [
    "stats.probplot(x=cars_data['VOL'], dist='norm', plot=plt)\n",
    "plt.show()"
   ]
  },
  {
   "cell_type": "code",
   "execution_count": 22,
   "id": "b89bb9ea",
   "metadata": {},
   "outputs": [
    {
     "data": {
      "image/png": "[encoded data removed]",
      "text/plain": [
       "<Figure size 432x288 with 1 Axes>"
      ]
     },
     "metadata": {
      "needs_background": "light"
     },
     "output_type": "display_data"
    }
   ],
   "source": [
    "stats.probplot(x=cars_data['SP'], dist='norm', plot=plt)\n",
    "plt.show()"
   ]
  },
  {
   "cell_type": "code",
   "execution_count": 23,
   "id": "158c8ac9",
   "metadata": {},
   "outputs": [
    {
     "data": {
      "image/png": "[encoded data removed]",
      "text/plain": [
       "<Figure size 432x288 with 1 Axes>"
      ]
     },
     "metadata": {
      "needs_background": "light"
     },
     "output_type": "display_data"
    }
   ],
   "source": [
    "stats.probplot(x=cars_data['WT'], dist='norm', plot=plt)\n",
    "plt.show()"
   ]
  },
  {
   "cell_type": "markdown",
   "id": "d1cf0366",
   "metadata": {},
   "source": [
    "#### Normality test Failes"
   ]
  },
  {
   "cell_type": "markdown",
   "id": "4eb53702",
   "metadata": {},
   "source": [
    "#### 2.Linearity Test"
   ]
  },
  {
   "cell_type": "code",
   "execution_count": 24,
   "id": "ff01ad6f",
   "metadata": {},
   "outputs": [
    {
     "data": {
      "image/png": "[encoded data removed]",
      "text/plain": [
       "<Figure size 360x360 with 1 Axes>"
      ]
     },
     "metadata": {
      "needs_background": "light"
     },
     "output_type": "display_data"
    }
   ],
   "source": [
    "sns.lmplot(x='HP',y='MPG',data=cars_data)\n",
    "plt.title('HP Vs MPG')\n",
    "plt.show()"
   ]
  },
  {
   "cell_type": "code",
   "execution_count": 25,
   "id": "a76ceb20",
   "metadata": {},
   "outputs": [
    {
     "data": {
      "image/png": "[encoded data removed]",
      "text/plain": [
       "<Figure size 360x360 with 1 Axes>"
      ]
     },
     "metadata": {
      "needs_background": "light"
     },
     "output_type": "display_data"
    }
   ],
   "source": [
    "sns.lmplot(x='VOL',y='MPG',data=cars_data)\n",
    "plt.title('VOL Vs MPG')\n",
    "plt.show()"
   ]
  },
  {
   "cell_type": "code",
   "execution_count": 26,
   "id": "c4ee1b62",
   "metadata": {},
   "outputs": [
    {
     "data": {
      "image/png": "[encoded data removed]",
      "text/plain": [
       "<Figure size 360x360 with 1 Axes>"
      ]
     },
     "metadata": {
      "needs_background": "light"
     },
     "output_type": "display_data"
    }
   ],
   "source": [
    "sns.lmplot(x='SP',y='MPG',data=cars_data)\n",
    "plt.title('SP Vs MPG')\n",
    "plt.show()"
   ]
  },
  {
   "cell_type": "code",
   "execution_count": 27,
   "id": "6fccb08d",
   "metadata": {},
   "outputs": [
    {
     "data": {
      "image/png": "[encoded data removed]",
      "text/plain": [
       "<Figure size 360x360 with 1 Axes>"
      ]
     },
     "metadata": {
      "needs_background": "light"
     },
     "output_type": "display_data"
    }
   ],
   "source": [
    "sns.lmplot(x='WT',y='MPG',data=cars_data)\n",
    "plt.title('WT Vs MPG')\n",
    "plt.show()"
   ]
  },
  {
   "cell_type": "markdown",
   "id": "1da62fc6",
   "metadata": {},
   "source": [
    "#### Linearity test also Failed"
   ]
  },
  {
   "cell_type": "markdown",
   "id": "50b2d9aa",
   "metadata": {},
   "source": [
    "#### 3. Multi-collinearity\n",
    "\n",
    "Can be performed using 2 techniques:\n",
    "\n",
    "1. Correlation Matrix\n",
    "2. Variance Inflation Factor [VIF]"
   ]
  },
  {
   "cell_type": "code",
   "execution_count": 28,
   "id": "2e4245d0",
   "metadata": {},
   "outputs": [
    {
     "data": {
      "text/html": [
       "<div>\n",
       "<style scoped>\n",
       "    .dataframe tbody tr th:only-of-type {\n",
       "        vertical-align: middle;\n",
       "    }\n",
       "\n",
       "    .dataframe tbody tr th {\n",
       "        vertical-align: top;\n",
       "    }\n",
       "\n",
       "    .dataframe thead th {\n",
       "        text-align: right;\n",
       "    }\n",
       "</style>\n",
       "<table border=\"1\" class=\"dataframe\">\n",
       "  <thead>\n",
       "    <tr style=\"text-align: right;\">\n",
       "      <th></th>\n",
       "      <th>HP</th>\n",
       "      <th>MPG</th>\n",
       "      <th>VOL</th>\n",
       "      <th>SP</th>\n",
       "      <th>WT</th>\n",
       "    </tr>\n",
       "  </thead>\n",
       "  <tbody>\n",
       "    <tr>\n",
       "      <th>HP</th>\n",
       "      <td>1.00</td>\n",
       "      <td>-0.73</td>\n",
       "      <td>0.08</td>\n",
       "      <td>0.97</td>\n",
       "      <td>0.08</td>\n",
       "    </tr>\n",
       "    <tr>\n",
       "      <th>MPG</th>\n",
       "      <td>-0.73</td>\n",
       "      <td>1.00</td>\n",
       "      <td>-0.53</td>\n",
       "      <td>-0.69</td>\n",
       "      <td>-0.53</td>\n",
       "    </tr>\n",
       "    <tr>\n",
       "      <th>VOL</th>\n",
       "      <td>0.08</td>\n",
       "      <td>-0.53</td>\n",
       "      <td>1.00</td>\n",
       "      <td>0.10</td>\n",
       "      <td>1.00</td>\n",
       "    </tr>\n",
       "    <tr>\n",
       "      <th>SP</th>\n",
       "      <td>0.97</td>\n",
       "      <td>-0.69</td>\n",
       "      <td>0.10</td>\n",
       "      <td>1.00</td>\n",
       "      <td>0.10</td>\n",
       "    </tr>\n",
       "    <tr>\n",
       "      <th>WT</th>\n",
       "      <td>0.08</td>\n",
       "      <td>-0.53</td>\n",
       "      <td>1.00</td>\n",
       "      <td>0.10</td>\n",
       "      <td>1.00</td>\n",
       "    </tr>\n",
       "  </tbody>\n",
       "</table>\n",
       "</div>"
      ],
      "text/plain": [
       "       HP   MPG   VOL    SP    WT\n",
       "HP   1.00 -0.73  0.08  0.97  0.08\n",
       "MPG -0.73  1.00 -0.53 -0.69 -0.53\n",
       "VOL  0.08 -0.53  1.00  0.10  1.00\n",
       "SP   0.97 -0.69  0.10  1.00  0.10\n",
       "WT   0.08 -0.53  1.00  0.10  1.00"
      ]
     },
     "execution_count": 28,
     "metadata": {},
     "output_type": "execute_result"
    }
   ],
   "source": [
    "cars_data_corr_matrix=cars_data.corr().round(2)\n",
    "cars_data_corr_matrix"
   ]
  },
  {
   "cell_type": "code",
   "execution_count": 29,
   "id": "e9e7eea2",
   "metadata": {},
   "outputs": [
    {
     "data": {
      "image/png": "[encoded data removed]",
      "text/plain": [
       "<Figure size 432x288 with 2 Axes>"
      ]
     },
     "metadata": {
      "needs_background": "light"
     },
     "output_type": "display_data"
    }
   ],
   "source": [
    "sns.heatmap(data=cars_data_corr_matrix, annot=True)\n",
    "plt.show()"
   ]
  },
  {
   "cell_type": "markdown",
   "id": "3c5e37ef",
   "metadata": {},
   "source": [
    "#### Multicollinearity problem exists"
   ]
  },
  {
   "cell_type": "markdown",
   "id": "c26773dd",
   "metadata": {},
   "source": [
    "#### 4. Autoregression Test\n",
    "\n",
    "No time based inputs"
   ]
  },
  {
   "cell_type": "markdown",
   "id": "53945812",
   "metadata": {},
   "source": [
    "#### 5. Homoskedasticity Check | 6. Zero Residual Mean Check\n",
    "\n",
    "This can be done post model training.\n",
    "\n",
    "#### NOTE:\n",
    "\n",
    "For homoskedasticity check, all our **input features must be in a similar scale.**"
   ]
  },
  {
   "cell_type": "markdown",
   "id": "5fd5ac6e",
   "metadata": {},
   "source": [
    "## ====================================================================="
   ]
  },
  {
   "cell_type": "markdown",
   "id": "34c5f756",
   "metadata": {},
   "source": [
    "## Let's create a Reference data to understand how the x feature should behave with y"
   ]
  },
  {
   "cell_type": "code",
   "execution_count": 30,
   "id": "7fff4c4a",
   "metadata": {},
   "outputs": [],
   "source": [
    "import numpy as np"
   ]
  },
  {
   "cell_type": "code",
   "execution_count": 31,
   "id": "01f5a267",
   "metadata": {},
   "outputs": [],
   "source": [
    "x=np.random.randn(81)\n",
    "y=10*x+np.random.randn(81)*2"
   ]
  },
  {
   "cell_type": "code",
   "execution_count": 32,
   "id": "c535d22c",
   "metadata": {},
   "outputs": [
    {
     "data": {
      "text/html": [
       "<div>\n",
       "<style scoped>\n",
       "    .dataframe tbody tr th:only-of-type {\n",
       "        vertical-align: middle;\n",
       "    }\n",
       "\n",
       "    .dataframe tbody tr th {\n",
       "        vertical-align: top;\n",
       "    }\n",
       "\n",
       "    .dataframe thead th {\n",
       "        text-align: right;\n",
       "    }\n",
       "</style>\n",
       "<table border=\"1\" class=\"dataframe\">\n",
       "  <thead>\n",
       "    <tr style=\"text-align: right;\">\n",
       "      <th></th>\n",
       "      <th>X</th>\n",
       "      <th>y</th>\n",
       "    </tr>\n",
       "  </thead>\n",
       "  <tbody>\n",
       "    <tr>\n",
       "      <th>0</th>\n",
       "      <td>0.227917</td>\n",
       "      <td>-2.489571</td>\n",
       "    </tr>\n",
       "    <tr>\n",
       "      <th>1</th>\n",
       "      <td>-0.386691</td>\n",
       "      <td>-2.962411</td>\n",
       "    </tr>\n",
       "    <tr>\n",
       "      <th>2</th>\n",
       "      <td>-0.264040</td>\n",
       "      <td>-1.972673</td>\n",
       "    </tr>\n",
       "    <tr>\n",
       "      <th>3</th>\n",
       "      <td>0.509288</td>\n",
       "      <td>3.105530</td>\n",
       "    </tr>\n",
       "    <tr>\n",
       "      <th>4</th>\n",
       "      <td>-0.566561</td>\n",
       "      <td>-7.695013</td>\n",
       "    </tr>\n",
       "    <tr>\n",
       "      <th>...</th>\n",
       "      <td>...</td>\n",
       "      <td>...</td>\n",
       "    </tr>\n",
       "    <tr>\n",
       "      <th>76</th>\n",
       "      <td>0.378365</td>\n",
       "      <td>0.980438</td>\n",
       "    </tr>\n",
       "    <tr>\n",
       "      <th>77</th>\n",
       "      <td>-0.092482</td>\n",
       "      <td>-0.335463</td>\n",
       "    </tr>\n",
       "    <tr>\n",
       "      <th>78</th>\n",
       "      <td>-1.903937</td>\n",
       "      <td>-16.166970</td>\n",
       "    </tr>\n",
       "    <tr>\n",
       "      <th>79</th>\n",
       "      <td>0.470475</td>\n",
       "      <td>5.723531</td>\n",
       "    </tr>\n",
       "    <tr>\n",
       "      <th>80</th>\n",
       "      <td>0.314274</td>\n",
       "      <td>1.470893</td>\n",
       "    </tr>\n",
       "  </tbody>\n",
       "</table>\n",
       "<p>81 rows × 2 columns</p>\n",
       "</div>"
      ],
      "text/plain": [
       "           X          y\n",
       "0   0.227917  -2.489571\n",
       "1  -0.386691  -2.962411\n",
       "2  -0.264040  -1.972673\n",
       "3   0.509288   3.105530\n",
       "4  -0.566561  -7.695013\n",
       "..       ...        ...\n",
       "76  0.378365   0.980438\n",
       "77 -0.092482  -0.335463\n",
       "78 -1.903937 -16.166970\n",
       "79  0.470475   5.723531\n",
       "80  0.314274   1.470893\n",
       "\n",
       "[81 rows x 2 columns]"
      ]
     },
     "execution_count": 32,
     "metadata": {},
     "output_type": "execute_result"
    }
   ],
   "source": [
    "ref_data=pd.DataFrame(data={'X':x, 'y':y})\n",
    "ref_data"
   ]
  },
  {
   "cell_type": "markdown",
   "id": "f49d1546",
   "metadata": {},
   "source": [
    "#### 1. Linearity Test"
   ]
  },
  {
   "cell_type": "code",
   "execution_count": 33,
   "id": "535ee46d",
   "metadata": {},
   "outputs": [
    {
     "data": {
      "image/png": "[encoded data removed]",
      "text/plain": [
       "<Figure size 360x360 with 1 Axes>"
      ]
     },
     "metadata": {
      "needs_background": "light"
     },
     "output_type": "display_data"
    }
   ],
   "source": [
    "sns.lmplot(x='X',y='y',data=ref_data)\n",
    "plt.title('X vs Y')\n",
    "plt.show()"
   ]
  },
  {
   "cell_type": "markdown",
   "id": "077625bb",
   "metadata": {},
   "source": [
    "#### Linearity Test is Passed"
   ]
  },
  {
   "cell_type": "markdown",
   "id": "aa48e861",
   "metadata": {},
   "source": [
    "#### 2. Normality Test"
   ]
  },
  {
   "cell_type": "code",
   "execution_count": 34,
   "id": "7dbb4fc2",
   "metadata": {},
   "outputs": [
    {
     "data": {
      "image/png": "[encoded data removed]",
      "text/plain": [
       "<Figure size 432x288 with 1 Axes>"
      ]
     },
     "metadata": {
      "needs_background": "light"
     },
     "output_type": "display_data"
    }
   ],
   "source": [
    "sns.distplot(a=ref_data['X'], hist=False)\n",
    "plt.show()"
   ]
  },
  {
   "cell_type": "code",
   "execution_count": 35,
   "id": "9f9a3e8a",
   "metadata": {},
   "outputs": [
    {
     "data": {
      "text/plain": [
       "-0.3339326632230836"
      ]
     },
     "execution_count": 35,
     "metadata": {},
     "output_type": "execute_result"
    }
   ],
   "source": [
    "ref_data['X'].skew()"
   ]
  },
  {
   "cell_type": "code",
   "execution_count": 36,
   "id": "ec677432",
   "metadata": {},
   "outputs": [
    {
     "data": {
      "text/plain": [
       "0.382054416184606"
      ]
     },
     "execution_count": 36,
     "metadata": {},
     "output_type": "execute_result"
    }
   ],
   "source": [
    "ref_data['X'].kurtosis()"
   ]
  },
  {
   "cell_type": "markdown",
   "id": "3a3a80db",
   "metadata": {},
   "source": [
    "**Using Probplot**"
   ]
  },
  {
   "cell_type": "code",
   "execution_count": 37,
   "id": "90ecf63d",
   "metadata": {},
   "outputs": [
    {
     "data": {
      "image/png": "[encoded data removed]",
      "text/plain": [
       "<Figure size 432x288 with 1 Axes>"
      ]
     },
     "metadata": {
      "needs_background": "light"
     },
     "output_type": "display_data"
    }
   ],
   "source": [
    "stats.probplot(x=ref_data['X'], dist='norm', plot=plt)\n",
    "plt.show()"
   ]
  },
  {
   "cell_type": "markdown",
   "id": "8717b109",
   "metadata": {},
   "source": [
    "#### Normality test is Passed"
   ]
  },
  {
   "cell_type": "markdown",
   "id": "8fbc3586",
   "metadata": {},
   "source": [
    "#### 3. Multicollinearity Test - Passed"
   ]
  },
  {
   "cell_type": "markdown",
   "id": "710b0eca",
   "metadata": {},
   "source": [
    "#### 4. AutoRegresssion Test - Passed"
   ]
  },
  {
   "cell_type": "markdown",
   "id": "3252853a",
   "metadata": {},
   "source": [
    "#### 5. Homoscedasticity Test || 6. Zero Residual Mean"
   ]
  },
  {
   "cell_type": "markdown",
   "id": "fd1579a1",
   "metadata": {},
   "source": [
    "## Model Building "
   ]
  },
  {
   "cell_type": "code",
   "execution_count": 38,
   "id": "ed25dbb2",
   "metadata": {},
   "outputs": [],
   "source": [
    "X=ref_data[['X']]\n",
    "y=ref_data[['y']]"
   ]
  },
  {
   "cell_type": "markdown",
   "id": "0d041dbc",
   "metadata": {},
   "source": [
    "## Model Training using Sklearn library"
   ]
  },
  {
   "cell_type": "code",
   "execution_count": 39,
   "id": "2b95a619",
   "metadata": {},
   "outputs": [
    {
     "data": {
      "text/plain": [
       "LinearRegression()"
      ]
     },
     "execution_count": 39,
     "metadata": {},
     "output_type": "execute_result"
    }
   ],
   "source": [
    "from sklearn.linear_model import LinearRegression\n",
    "linear_model=LinearRegression() #Object Creation/ Model Initialization\n",
    "linear_model.fit(X,y)"
   ]
  },
  {
   "cell_type": "code",
   "execution_count": 40,
   "id": "97e5f44d",
   "metadata": {},
   "outputs": [
    {
     "data": {
      "text/plain": [
       "array([[10.25892846]])"
      ]
     },
     "execution_count": 40,
     "metadata": {},
     "output_type": "execute_result"
    }
   ],
   "source": [
    "linear_model.coef_"
   ]
  },
  {
   "cell_type": "markdown",
   "id": "b71812d1",
   "metadata": {},
   "source": [
    "## Model Testing"
   ]
  },
  {
   "cell_type": "code",
   "execution_count": 41,
   "id": "8af19755",
   "metadata": {},
   "outputs": [],
   "source": [
    "y_pred=linear_model.predict(X)"
   ]
  },
  {
   "cell_type": "markdown",
   "id": "9655cb7d",
   "metadata": {},
   "source": [
    "## Model Evaluation"
   ]
  },
  {
   "cell_type": "code",
   "execution_count": 42,
   "id": "07b0d05e",
   "metadata": {},
   "outputs": [
    {
     "data": {
      "text/html": [
       "<div>\n",
       "<style scoped>\n",
       "    .dataframe tbody tr th:only-of-type {\n",
       "        vertical-align: middle;\n",
       "    }\n",
       "\n",
       "    .dataframe tbody tr th {\n",
       "        vertical-align: top;\n",
       "    }\n",
       "\n",
       "    .dataframe thead th {\n",
       "        text-align: right;\n",
       "    }\n",
       "</style>\n",
       "<table border=\"1\" class=\"dataframe\">\n",
       "  <thead>\n",
       "    <tr style=\"text-align: right;\">\n",
       "      <th></th>\n",
       "      <th>y</th>\n",
       "    </tr>\n",
       "  </thead>\n",
       "  <tbody>\n",
       "    <tr>\n",
       "      <th>0</th>\n",
       "      <td>-2.489571</td>\n",
       "    </tr>\n",
       "    <tr>\n",
       "      <th>1</th>\n",
       "      <td>-2.962411</td>\n",
       "    </tr>\n",
       "    <tr>\n",
       "      <th>2</th>\n",
       "      <td>-1.972673</td>\n",
       "    </tr>\n",
       "    <tr>\n",
       "      <th>3</th>\n",
       "      <td>3.105530</td>\n",
       "    </tr>\n",
       "    <tr>\n",
       "      <th>4</th>\n",
       "      <td>-7.695013</td>\n",
       "    </tr>\n",
       "    <tr>\n",
       "      <th>...</th>\n",
       "      <td>...</td>\n",
       "    </tr>\n",
       "    <tr>\n",
       "      <th>76</th>\n",
       "      <td>0.980438</td>\n",
       "    </tr>\n",
       "    <tr>\n",
       "      <th>77</th>\n",
       "      <td>-0.335463</td>\n",
       "    </tr>\n",
       "    <tr>\n",
       "      <th>78</th>\n",
       "      <td>-16.166970</td>\n",
       "    </tr>\n",
       "    <tr>\n",
       "      <th>79</th>\n",
       "      <td>5.723531</td>\n",
       "    </tr>\n",
       "    <tr>\n",
       "      <th>80</th>\n",
       "      <td>1.470893</td>\n",
       "    </tr>\n",
       "  </tbody>\n",
       "</table>\n",
       "<p>81 rows × 1 columns</p>\n",
       "</div>"
      ],
      "text/plain": [
       "            y\n",
       "0   -2.489571\n",
       "1   -2.962411\n",
       "2   -1.972673\n",
       "3    3.105530\n",
       "4   -7.695013\n",
       "..        ...\n",
       "76   0.980438\n",
       "77  -0.335463\n",
       "78 -16.166970\n",
       "79   5.723531\n",
       "80   1.470893\n",
       "\n",
       "[81 rows x 1 columns]"
      ]
     },
     "execution_count": 42,
     "metadata": {},
     "output_type": "execute_result"
    }
   ],
   "source": [
    "y"
   ]
  },
  {
   "cell_type": "code",
   "execution_count": 48,
   "id": "3981031c",
   "metadata": {},
   "outputs": [
    {
     "data": {
      "text/plain": [
       "array([[  2.27708344],\n",
       "       [ -4.02813524],\n",
       "       [ -2.76986688],\n",
       "       [  5.16365222],\n",
       "       [ -5.87341091],\n",
       "       [-11.11479166],\n",
       "       [ 16.17938273],\n",
       "       [ -0.41793831],\n",
       "       [ -2.7511579 ],\n",
       "       [-10.34248627],\n",
       "       [ 15.02085729],\n",
       "       [ -4.87357852],\n",
       "       [ -3.57398305],\n",
       "       [ -8.01999791],\n",
       "       [ -3.65835161],\n",
       "       [  6.89634749],\n",
       "       [-13.43142187],\n",
       "       [ 11.91281232],\n",
       "       [ -6.61970252],\n",
       "       [ -5.09413498],\n",
       "       [ -7.53654028],\n",
       "       [-12.94221405],\n",
       "       [-23.22609565],\n",
       "       [ -2.40935723],\n",
       "       [  0.52401495],\n",
       "       [  1.45633851],\n",
       "       [-15.28231512],\n",
       "       [ 15.93342664],\n",
       "       [ 14.30516032],\n",
       "       [ -4.13457676],\n",
       "       [ -6.18388944],\n",
       "       [-12.09202488],\n",
       "       [-11.8740627 ],\n",
       "       [  3.9549192 ],\n",
       "       [  5.66000305],\n",
       "       [  7.22680161],\n",
       "       [ -1.22129548],\n",
       "       [  7.03544654],\n",
       "       [  9.66008848],\n",
       "       [-25.60693749],\n",
       "       [-12.46084735],\n",
       "       [-15.10432519],\n",
       "       [  3.09334577],\n",
       "       [  3.58000196],\n",
       "       [ -7.39613012],\n",
       "       [ -3.07438372],\n",
       "       [ -7.83277621],\n",
       "       [  0.33245822],\n",
       "       [ -1.95633693],\n",
       "       [  0.79004236],\n",
       "       [ -0.33739975],\n",
       "       [ 14.58623227],\n",
       "       [ -9.97262866],\n",
       "       [-29.62804723],\n",
       "       [  8.77400505],\n",
       "       [ -9.75514655],\n",
       "       [  2.97855375],\n",
       "       [-11.89194501],\n",
       "       [ -1.28818483],\n",
       "       [ -9.08723997],\n",
       "       [-14.84373512],\n",
       "       [ 19.67330725],\n",
       "       [  7.17216618],\n",
       "       [ -5.49342109],\n",
       "       [ -3.23733066],\n",
       "       [  6.10634815],\n",
       "       [  2.65145595],\n",
       "       [ 10.07604061],\n",
       "       [-10.48796485],\n",
       "       [-14.71629718],\n",
       "       [  1.08325843],\n",
       "       [  0.9191407 ],\n",
       "       [  2.64857679],\n",
       "       [  0.63875645],\n",
       "       [-30.11809155],\n",
       "       [ -8.01339679],\n",
       "       [  3.82051754],\n",
       "       [ -1.00986257],\n",
       "       [-19.59345095],\n",
       "       [  4.76547589],\n",
       "       [  3.16301583]])"
      ]
     },
     "execution_count": 48,
     "metadata": {},
     "output_type": "execute_result"
    }
   ],
   "source": [
    "y_pred"
   ]
  },
  {
   "cell_type": "code",
   "execution_count": 44,
   "id": "16c1af94",
   "metadata": {},
   "outputs": [
    {
     "data": {
      "text/html": [
       "<div>\n",
       "<style scoped>\n",
       "    .dataframe tbody tr th:only-of-type {\n",
       "        vertical-align: middle;\n",
       "    }\n",
       "\n",
       "    .dataframe tbody tr th {\n",
       "        vertical-align: top;\n",
       "    }\n",
       "\n",
       "    .dataframe thead th {\n",
       "        text-align: right;\n",
       "    }\n",
       "</style>\n",
       "<table border=\"1\" class=\"dataframe\">\n",
       "  <thead>\n",
       "    <tr style=\"text-align: right;\">\n",
       "      <th></th>\n",
       "      <th>y</th>\n",
       "    </tr>\n",
       "  </thead>\n",
       "  <tbody>\n",
       "    <tr>\n",
       "      <th>0</th>\n",
       "      <td>-4.766655</td>\n",
       "    </tr>\n",
       "    <tr>\n",
       "      <th>1</th>\n",
       "      <td>1.065724</td>\n",
       "    </tr>\n",
       "    <tr>\n",
       "      <th>2</th>\n",
       "      <td>0.797193</td>\n",
       "    </tr>\n",
       "    <tr>\n",
       "      <th>3</th>\n",
       "      <td>-2.058123</td>\n",
       "    </tr>\n",
       "    <tr>\n",
       "      <th>4</th>\n",
       "      <td>-1.821602</td>\n",
       "    </tr>\n",
       "    <tr>\n",
       "      <th>...</th>\n",
       "      <td>...</td>\n",
       "    </tr>\n",
       "    <tr>\n",
       "      <th>76</th>\n",
       "      <td>-2.840079</td>\n",
       "    </tr>\n",
       "    <tr>\n",
       "      <th>77</th>\n",
       "      <td>0.674399</td>\n",
       "    </tr>\n",
       "    <tr>\n",
       "      <th>78</th>\n",
       "      <td>3.426481</td>\n",
       "    </tr>\n",
       "    <tr>\n",
       "      <th>79</th>\n",
       "      <td>0.958055</td>\n",
       "    </tr>\n",
       "    <tr>\n",
       "      <th>80</th>\n",
       "      <td>-1.692123</td>\n",
       "    </tr>\n",
       "  </tbody>\n",
       "</table>\n",
       "<p>81 rows × 1 columns</p>\n",
       "</div>"
      ],
      "text/plain": [
       "           y\n",
       "0  -4.766655\n",
       "1   1.065724\n",
       "2   0.797193\n",
       "3  -2.058123\n",
       "4  -1.821602\n",
       "..       ...\n",
       "76 -2.840079\n",
       "77  0.674399\n",
       "78  3.426481\n",
       "79  0.958055\n",
       "80 -1.692123\n",
       "\n",
       "[81 rows x 1 columns]"
      ]
     },
     "execution_count": 44,
     "metadata": {},
     "output_type": "execute_result"
    }
   ],
   "source": [
    "error=y-y_pred\n",
    "error"
   ]
  },
  {
   "cell_type": "markdown",
   "id": "90db45d8",
   "metadata": {},
   "source": [
    "#### 5. Homoscadasticity Check"
   ]
  },
  {
   "cell_type": "code",
   "execution_count": 45,
   "id": "860d0955",
   "metadata": {},
   "outputs": [
    {
     "data": {
      "image/png": "[encoded data removed]",
      "text/plain": [
       "<Figure size 432x288 with 1 Axes>"
      ]
     },
     "metadata": {
      "needs_background": "light"
     },
     "output_type": "display_data"
    }
   ],
   "source": [
    "plt.scatter(x=ref_data['X'],y=error,)\n",
    "plt.title('Homoscadasticity Chech - X vs Error')\n",
    "plt.xlabel('X')\n",
    "plt.ylabel('Error')\n",
    "plt.show()"
   ]
  },
  {
   "cell_type": "markdown",
   "id": "43841a85",
   "metadata": {},
   "source": [
    "#### 6. Zero Residual Mean Test\n",
    "\n",
    "It is a plot b/w our **Actual output vs Predicted output**"
   ]
  },
  {
   "cell_type": "code",
   "execution_count": 46,
   "id": "8e17385a",
   "metadata": {},
   "outputs": [
    {
     "data": {
      "image/png": "[encoded data removed]",
      "text/plain": [
       "<Figure size 432x288 with 1 Axes>"
      ]
     },
     "metadata": {
      "needs_background": "light"
     },
     "output_type": "display_data"
    }
   ],
   "source": [
    "plt.scatter(x=y,y=y_pred,)\n",
    "plt.title('Actual output vs Predicted output')\n",
    "plt.xlabel('Actual output')\n",
    "plt.ylabel('Predicted output')\n",
    "plt.show()"
   ]
  },
  {
   "cell_type": "markdown",
   "id": "91a891c4",
   "metadata": {},
   "source": [
    "#### Zero residual test is passed"
   ]
  },
  {
   "cell_type": "markdown",
   "id": "e5202755",
   "metadata": {},
   "source": [
    "## ====================================================================="
   ]
  },
  {
   "cell_type": "markdown",
   "id": "0c7b3a91",
   "metadata": {},
   "source": [
    "### COME BACK TO CARS DATA"
   ]
  },
  {
   "cell_type": "code",
   "execution_count": 49,
   "id": "16c89965",
   "metadata": {},
   "outputs": [
    {
     "data": {
      "text/html": [
       "<div>\n",
       "<style scoped>\n",
       "    .dataframe tbody tr th:only-of-type {\n",
       "        vertical-align: middle;\n",
       "    }\n",
       "\n",
       "    .dataframe tbody tr th {\n",
       "        vertical-align: top;\n",
       "    }\n",
       "\n",
       "    .dataframe thead th {\n",
       "        text-align: right;\n",
       "    }\n",
       "</style>\n",
       "<table border=\"1\" class=\"dataframe\">\n",
       "  <thead>\n",
       "    <tr style=\"text-align: right;\">\n",
       "      <th></th>\n",
       "      <th>HP</th>\n",
       "      <th>MPG</th>\n",
       "      <th>VOL</th>\n",
       "      <th>SP</th>\n",
       "      <th>WT</th>\n",
       "    </tr>\n",
       "  </thead>\n",
       "  <tbody>\n",
       "    <tr>\n",
       "      <th>0</th>\n",
       "      <td>49</td>\n",
       "      <td>53.700681</td>\n",
       "      <td>89</td>\n",
       "      <td>104.185353</td>\n",
       "      <td>28.762059</td>\n",
       "    </tr>\n",
       "    <tr>\n",
       "      <th>1</th>\n",
       "      <td>55</td>\n",
       "      <td>50.013401</td>\n",
       "      <td>92</td>\n",
       "      <td>105.461264</td>\n",
       "      <td>30.466833</td>\n",
       "    </tr>\n",
       "    <tr>\n",
       "      <th>2</th>\n",
       "      <td>55</td>\n",
       "      <td>50.013401</td>\n",
       "      <td>92</td>\n",
       "      <td>105.461264</td>\n",
       "      <td>30.193597</td>\n",
       "    </tr>\n",
       "    <tr>\n",
       "      <th>3</th>\n",
       "      <td>70</td>\n",
       "      <td>45.696322</td>\n",
       "      <td>92</td>\n",
       "      <td>113.461264</td>\n",
       "      <td>30.632114</td>\n",
       "    </tr>\n",
       "    <tr>\n",
       "      <th>4</th>\n",
       "      <td>53</td>\n",
       "      <td>50.504232</td>\n",
       "      <td>92</td>\n",
       "      <td>104.461264</td>\n",
       "      <td>29.889149</td>\n",
       "    </tr>\n",
       "    <tr>\n",
       "      <th>...</th>\n",
       "      <td>...</td>\n",
       "      <td>...</td>\n",
       "      <td>...</td>\n",
       "      <td>...</td>\n",
       "      <td>...</td>\n",
       "    </tr>\n",
       "    <tr>\n",
       "      <th>76</th>\n",
       "      <td>322</td>\n",
       "      <td>36.900000</td>\n",
       "      <td>50</td>\n",
       "      <td>169.598513</td>\n",
       "      <td>16.132947</td>\n",
       "    </tr>\n",
       "    <tr>\n",
       "      <th>77</th>\n",
       "      <td>238</td>\n",
       "      <td>19.197888</td>\n",
       "      <td>115</td>\n",
       "      <td>150.576579</td>\n",
       "      <td>37.923113</td>\n",
       "    </tr>\n",
       "    <tr>\n",
       "      <th>78</th>\n",
       "      <td>263</td>\n",
       "      <td>34.000000</td>\n",
       "      <td>50</td>\n",
       "      <td>151.598513</td>\n",
       "      <td>15.769625</td>\n",
       "    </tr>\n",
       "    <tr>\n",
       "      <th>79</th>\n",
       "      <td>295</td>\n",
       "      <td>19.833733</td>\n",
       "      <td>119</td>\n",
       "      <td>167.944460</td>\n",
       "      <td>39.423099</td>\n",
       "    </tr>\n",
       "    <tr>\n",
       "      <th>80</th>\n",
       "      <td>236</td>\n",
       "      <td>12.101263</td>\n",
       "      <td>107</td>\n",
       "      <td>139.840817</td>\n",
       "      <td>34.948615</td>\n",
       "    </tr>\n",
       "  </tbody>\n",
       "</table>\n",
       "<p>81 rows × 5 columns</p>\n",
       "</div>"
      ],
      "text/plain": [
       "     HP        MPG  VOL          SP         WT\n",
       "0    49  53.700681   89  104.185353  28.762059\n",
       "1    55  50.013401   92  105.461264  30.466833\n",
       "2    55  50.013401   92  105.461264  30.193597\n",
       "3    70  45.696322   92  113.461264  30.632114\n",
       "4    53  50.504232   92  104.461264  29.889149\n",
       "..  ...        ...  ...         ...        ...\n",
       "76  322  36.900000   50  169.598513  16.132947\n",
       "77  238  19.197888  115  150.576579  37.923113\n",
       "78  263  34.000000   50  151.598513  15.769625\n",
       "79  295  19.833733  119  167.944460  39.423099\n",
       "80  236  12.101263  107  139.840817  34.948615\n",
       "\n",
       "[81 rows x 5 columns]"
      ]
     },
     "execution_count": 49,
     "metadata": {},
     "output_type": "execute_result"
    }
   ],
   "source": [
    "cars_data"
   ]
  },
  {
   "cell_type": "markdown",
   "id": "dbdc6662",
   "metadata": {},
   "source": [
    "## Model Building"
   ]
  },
  {
   "cell_type": "code",
   "execution_count": 51,
   "id": "2b408655",
   "metadata": {},
   "outputs": [],
   "source": [
    "X=cars_data.drop(['MPG'],axis=1)\n",
    "y=cars_data[['MPG']]"
   ]
  },
  {
   "cell_type": "code",
   "execution_count": 60,
   "id": "496c8a70",
   "metadata": {},
   "outputs": [
    {
     "data": {
      "text/plain": [
       "Index(['HP', 'VOL', 'SP', 'WT'], dtype='object')"
      ]
     },
     "execution_count": 60,
     "metadata": {},
     "output_type": "execute_result"
    }
   ],
   "source": [
    "X.columns"
   ]
  },
  {
   "cell_type": "markdown",
   "id": "8e3f0716",
   "metadata": {},
   "source": [
    "### Scaling data"
   ]
  },
  {
   "cell_type": "code",
   "execution_count": 65,
   "id": "1b06f33f",
   "metadata": {},
   "outputs": [
    {
     "data": {
      "text/html": [
       "<div>\n",
       "<style scoped>\n",
       "    .dataframe tbody tr th:only-of-type {\n",
       "        vertical-align: middle;\n",
       "    }\n",
       "\n",
       "    .dataframe tbody tr th {\n",
       "        vertical-align: top;\n",
       "    }\n",
       "\n",
       "    .dataframe thead th {\n",
       "        text-align: right;\n",
       "    }\n",
       "</style>\n",
       "<table border=\"1\" class=\"dataframe\">\n",
       "  <thead>\n",
       "    <tr style=\"text-align: right;\">\n",
       "      <th></th>\n",
       "      <th>HP</th>\n",
       "      <th>VOL</th>\n",
       "      <th>SP</th>\n",
       "      <th>WT</th>\n",
       "    </tr>\n",
       "  </thead>\n",
       "  <tbody>\n",
       "    <tr>\n",
       "      <th>0</th>\n",
       "      <td>-1.206295</td>\n",
       "      <td>-0.440611</td>\n",
       "      <td>-1.231403</td>\n",
       "      <td>-0.490238</td>\n",
       "    </tr>\n",
       "    <tr>\n",
       "      <th>1</th>\n",
       "      <td>-1.100587</td>\n",
       "      <td>-0.305252</td>\n",
       "      <td>-1.140871</td>\n",
       "      <td>-0.261299</td>\n",
       "    </tr>\n",
       "    <tr>\n",
       "      <th>2</th>\n",
       "      <td>-1.100587</td>\n",
       "      <td>-0.305252</td>\n",
       "      <td>-1.140871</td>\n",
       "      <td>-0.297993</td>\n",
       "    </tr>\n",
       "    <tr>\n",
       "      <th>3</th>\n",
       "      <td>-0.836315</td>\n",
       "      <td>-0.305252</td>\n",
       "      <td>-0.573239</td>\n",
       "      <td>-0.239103</td>\n",
       "    </tr>\n",
       "    <tr>\n",
       "      <th>4</th>\n",
       "      <td>-1.135823</td>\n",
       "      <td>-0.305252</td>\n",
       "      <td>-1.211826</td>\n",
       "      <td>-0.338878</td>\n",
       "    </tr>\n",
       "    <tr>\n",
       "      <th>...</th>\n",
       "      <td>...</td>\n",
       "      <td>...</td>\n",
       "      <td>...</td>\n",
       "      <td>...</td>\n",
       "    </tr>\n",
       "    <tr>\n",
       "      <th>76</th>\n",
       "      <td>3.603442</td>\n",
       "      <td>-2.200268</td>\n",
       "      <td>3.409929</td>\n",
       "      <td>-2.186236</td>\n",
       "    </tr>\n",
       "    <tr>\n",
       "      <th>77</th>\n",
       "      <td>2.123523</td>\n",
       "      <td>0.732494</td>\n",
       "      <td>2.060245</td>\n",
       "      <td>0.740025</td>\n",
       "    </tr>\n",
       "    <tr>\n",
       "      <th>78</th>\n",
       "      <td>2.563975</td>\n",
       "      <td>-2.200268</td>\n",
       "      <td>2.132755</td>\n",
       "      <td>-2.235028</td>\n",
       "    </tr>\n",
       "    <tr>\n",
       "      <th>79</th>\n",
       "      <td>3.127754</td>\n",
       "      <td>0.912972</td>\n",
       "      <td>3.292567</td>\n",
       "      <td>0.941462</td>\n",
       "    </tr>\n",
       "    <tr>\n",
       "      <th>80</th>\n",
       "      <td>2.088287</td>\n",
       "      <td>0.371539</td>\n",
       "      <td>1.298499</td>\n",
       "      <td>0.340572</td>\n",
       "    </tr>\n",
       "  </tbody>\n",
       "</table>\n",
       "<p>81 rows × 4 columns</p>\n",
       "</div>"
      ],
      "text/plain": [
       "          HP       VOL        SP        WT\n",
       "0  -1.206295 -0.440611 -1.231403 -0.490238\n",
       "1  -1.100587 -0.305252 -1.140871 -0.261299\n",
       "2  -1.100587 -0.305252 -1.140871 -0.297993\n",
       "3  -0.836315 -0.305252 -0.573239 -0.239103\n",
       "4  -1.135823 -0.305252 -1.211826 -0.338878\n",
       "..       ...       ...       ...       ...\n",
       "76  3.603442 -2.200268  3.409929 -2.186236\n",
       "77  2.123523  0.732494  2.060245  0.740025\n",
       "78  2.563975 -2.200268  2.132755 -2.235028\n",
       "79  3.127754  0.912972  3.292567  0.941462\n",
       "80  2.088287  0.371539  1.298499  0.340572\n",
       "\n",
       "[81 rows x 4 columns]"
      ]
     },
     "execution_count": 65,
     "metadata": {},
     "output_type": "execute_result"
    }
   ],
   "source": [
    "from sklearn.preprocessing import StandardScaler\n",
    "std_scalar=StandardScaler()\n",
    "X_scaled=std_scalar.fit_transform(X)\n",
    "X_scaled=pd.DataFrame(X_scaled, columns=X.columns)\n",
    "X_scaled"
   ]
  },
  {
   "cell_type": "markdown",
   "id": "7d28cf37",
   "metadata": {},
   "source": [
    "#### Before Scaling"
   ]
  },
  {
   "cell_type": "code",
   "execution_count": 62,
   "id": "4a1019c6",
   "metadata": {},
   "outputs": [
    {
     "data": {
      "text/plain": [
       "HP     117.469136\n",
       "MPG     34.422076\n",
       "VOL     98.765432\n",
       "SP     121.540272\n",
       "WT      32.412577\n",
       "dtype: float64"
      ]
     },
     "execution_count": 62,
     "metadata": {},
     "output_type": "execute_result"
    }
   ],
   "source": [
    "cars_data.mean()"
   ]
  },
  {
   "cell_type": "code",
   "execution_count": 63,
   "id": "76c66591",
   "metadata": {},
   "outputs": [
    {
     "data": {
      "text/plain": [
       "HP     57.113502\n",
       "MPG     9.131445\n",
       "VOL    22.301497\n",
       "SP     14.181432\n",
       "WT      7.492813\n",
       "dtype: float64"
      ]
     },
     "execution_count": 63,
     "metadata": {},
     "output_type": "execute_result"
    }
   ],
   "source": [
    "cars_data.std()"
   ]
  },
  {
   "cell_type": "markdown",
   "id": "f5649a81",
   "metadata": {},
   "source": [
    "#### After Scaling"
   ]
  },
  {
   "cell_type": "code",
   "execution_count": 66,
   "id": "78734a46",
   "metadata": {},
   "outputs": [
    {
     "data": {
      "text/plain": [
       "HP    -1.041691e-16\n",
       "VOL    5.825244e-17\n",
       "SP     1.274701e-15\n",
       "WT     1.170531e-15\n",
       "dtype: float64"
      ]
     },
     "execution_count": 66,
     "metadata": {},
     "output_type": "execute_result"
    }
   ],
   "source": [
    "X_scaled.mean()"
   ]
  },
  {
   "cell_type": "code",
   "execution_count": 67,
   "id": "9819a44c",
   "metadata": {},
   "outputs": [
    {
     "data": {
      "text/plain": [
       "HP     1.006231\n",
       "VOL    1.006231\n",
       "SP     1.006231\n",
       "WT     1.006231\n",
       "dtype: float64"
      ]
     },
     "execution_count": 67,
     "metadata": {},
     "output_type": "execute_result"
    }
   ],
   "source": [
    "X_scaled.std()"
   ]
  },
  {
   "cell_type": "markdown",
   "id": "38ab407d",
   "metadata": {},
   "source": [
    "## Model Training"
   ]
  },
  {
   "cell_type": "code",
   "execution_count": 68,
   "id": "ef507f70",
   "metadata": {},
   "outputs": [
    {
     "data": {
      "text/plain": [
       "LinearRegression()"
      ]
     },
     "execution_count": 68,
     "metadata": {},
     "output_type": "execute_result"
    }
   ],
   "source": [
    "linear_model_2=LinearRegression()\n",
    "linear_model_2.fit(X_scaled,y)"
   ]
  },
  {
   "cell_type": "code",
   "execution_count": 69,
   "id": "538ef7e8",
   "metadata": {},
   "outputs": [
    {
     "data": {
      "text/plain": [
       "array([[-11.66095549,  -7.44803145,   5.57581553,   2.98284187]])"
      ]
     },
     "execution_count": 69,
     "metadata": {},
     "output_type": "execute_result"
    }
   ],
   "source": [
    "linear_model_2.coef_"
   ]
  },
  {
   "cell_type": "code",
   "execution_count": 70,
   "id": "5f04b828",
   "metadata": {},
   "outputs": [
    {
     "data": {
      "text/plain": [
       "array([34.42207573])"
      ]
     },
     "execution_count": 70,
     "metadata": {},
     "output_type": "execute_result"
    }
   ],
   "source": [
    "linear_model_2.intercept_"
   ]
  },
  {
   "cell_type": "markdown",
   "id": "4392b80f",
   "metadata": {},
   "source": [
    "## Model Testing"
   ]
  },
  {
   "cell_type": "code",
   "execution_count": 71,
   "id": "98e5b5af",
   "metadata": {},
   "outputs": [],
   "source": [
    "y_pred=linear_model_2.predict(X_scaled)"
   ]
  },
  {
   "cell_type": "markdown",
   "id": "4bdd440f",
   "metadata": {},
   "source": [
    "## Model Evaluation"
   ]
  },
  {
   "cell_type": "code",
   "execution_count": 72,
   "id": "a3b039d2",
   "metadata": {},
   "outputs": [
    {
     "data": {
      "text/html": [
       "<div>\n",
       "<style scoped>\n",
       "    .dataframe tbody tr th:only-of-type {\n",
       "        vertical-align: middle;\n",
       "    }\n",
       "\n",
       "    .dataframe tbody tr th {\n",
       "        vertical-align: top;\n",
       "    }\n",
       "\n",
       "    .dataframe thead th {\n",
       "        text-align: right;\n",
       "    }\n",
       "</style>\n",
       "<table border=\"1\" class=\"dataframe\">\n",
       "  <thead>\n",
       "    <tr style=\"text-align: right;\">\n",
       "      <th></th>\n",
       "      <th>y</th>\n",
       "    </tr>\n",
       "  </thead>\n",
       "  <tbody>\n",
       "    <tr>\n",
       "      <th>0</th>\n",
       "      <td>-4.766655</td>\n",
       "    </tr>\n",
       "    <tr>\n",
       "      <th>1</th>\n",
       "      <td>1.065724</td>\n",
       "    </tr>\n",
       "    <tr>\n",
       "      <th>2</th>\n",
       "      <td>0.797193</td>\n",
       "    </tr>\n",
       "    <tr>\n",
       "      <th>3</th>\n",
       "      <td>-2.058123</td>\n",
       "    </tr>\n",
       "    <tr>\n",
       "      <th>4</th>\n",
       "      <td>-1.821602</td>\n",
       "    </tr>\n",
       "    <tr>\n",
       "      <th>...</th>\n",
       "      <td>...</td>\n",
       "    </tr>\n",
       "    <tr>\n",
       "      <th>76</th>\n",
       "      <td>-2.840079</td>\n",
       "    </tr>\n",
       "    <tr>\n",
       "      <th>77</th>\n",
       "      <td>0.674399</td>\n",
       "    </tr>\n",
       "    <tr>\n",
       "      <th>78</th>\n",
       "      <td>3.426481</td>\n",
       "    </tr>\n",
       "    <tr>\n",
       "      <th>79</th>\n",
       "      <td>0.958055</td>\n",
       "    </tr>\n",
       "    <tr>\n",
       "      <th>80</th>\n",
       "      <td>-1.692123</td>\n",
       "    </tr>\n",
       "  </tbody>\n",
       "</table>\n",
       "<p>81 rows × 1 columns</p>\n",
       "</div>"
      ],
      "text/plain": [
       "           y\n",
       "0  -4.766655\n",
       "1   1.065724\n",
       "2   0.797193\n",
       "3  -2.058123\n",
       "4  -1.821602\n",
       "..       ...\n",
       "76 -2.840079\n",
       "77  0.674399\n",
       "78  3.426481\n",
       "79  0.958055\n",
       "80 -1.692123\n",
       "\n",
       "[81 rows x 1 columns]"
      ]
     },
     "execution_count": 72,
     "metadata": {},
     "output_type": "execute_result"
    }
   ],
   "source": [
    "error_cars=y-y_pred\n",
    "error"
   ]
  },
  {
   "cell_type": "markdown",
   "id": "09db6655",
   "metadata": {},
   "source": [
    "#### 5. Homoscadasticity Check"
   ]
  },
  {
   "cell_type": "code",
   "execution_count": 74,
   "id": "4d810453",
   "metadata": {},
   "outputs": [
    {
     "data": {
      "image/png": "[encoded data removed]",
      "text/plain": [
       "<Figure size 432x288 with 1 Axes>"
      ]
     },
     "metadata": {
      "needs_background": "light"
     },
     "output_type": "display_data"
    }
   ],
   "source": [
    "plt.scatter(x=cars_data['HP'],y=error_cars)\n",
    "plt.title('Homoscadasticity Chech - HP vs Error')\n",
    "plt.xlabel('HP')\n",
    "plt.ylabel('Error')\n",
    "plt.show()"
   ]
  },
  {
   "cell_type": "code",
   "execution_count": 76,
   "id": "49618729",
   "metadata": {},
   "outputs": [
    {
     "data": {
      "image/png": "[encoded data removed]",
      "text/plain": [
       "<Figure size 432x288 with 1 Axes>"
      ]
     },
     "metadata": {
      "needs_background": "light"
     },
     "output_type": "display_data"
    }
   ],
   "source": [
    "plt.scatter(x=cars_data['VOL'],y=error_cars)\n",
    "plt.title('Homoscadasticity Chech - VOL vs Error')\n",
    "plt.xlabel('VOL')\n",
    "plt.ylabel('Error')\n",
    "plt.show()"
   ]
  },
  {
   "cell_type": "code",
   "execution_count": 78,
   "id": "726333b5",
   "metadata": {},
   "outputs": [
    {
     "data": {
      "image/png": "[encoded data removed]",
      "text/plain": [
       "<Figure size 432x288 with 1 Axes>"
      ]
     },
     "metadata": {
      "needs_background": "light"
     },
     "output_type": "display_data"
    }
   ],
   "source": [
    "plt.scatter(x=cars_data['SP'],y=error_cars)\n",
    "plt.title('Homoscadasticity Chech - SP vs Error')\n",
    "plt.xlabel('SP')\n",
    "plt.ylabel('Error')\n",
    "plt.show()"
   ]
  },
  {
   "cell_type": "code",
   "execution_count": 79,
   "id": "12a524aa",
   "metadata": {},
   "outputs": [
    {
     "data": {
      "image/png": "[encoded data removed]",
      "text/plain": [
       "<Figure size 432x288 with 1 Axes>"
      ]
     },
     "metadata": {
      "needs_background": "light"
     },
     "output_type": "display_data"
    }
   ],
   "source": [
    "plt.scatter(x=cars_data['WT'],y=error_cars)\n",
    "plt.title('Homoscadasticity Chech - WT vs Error')\n",
    "plt.xlabel('WT')\n",
    "plt.ylabel('Error')\n",
    "plt.show()"
   ]
  },
  {
   "cell_type": "markdown",
   "id": "11021355",
   "metadata": {},
   "source": [
    "#### Homoscadasticity test Failed"
   ]
  },
  {
   "cell_type": "markdown",
   "id": "679045d8",
   "metadata": {},
   "source": [
    "#### 6. Zero Residual Mean Test\n",
    "\n",
    "It is a plot b/w our **Actual output vs Predicted output**"
   ]
  },
  {
   "cell_type": "code",
   "execution_count": 80,
   "id": "51fd59e3",
   "metadata": {},
   "outputs": [
    {
     "data": {
      "image/png": "[encoded data removed]",
      "text/plain": [
       "<Figure size 432x288 with 1 Axes>"
      ]
     },
     "metadata": {
      "needs_background": "light"
     },
     "output_type": "display_data"
    }
   ],
   "source": [
    "plt.scatter(x=y,y=y_pred,)\n",
    "plt.title('Actual output vs Predicted output')\n",
    "plt.xlabel('Actual output')\n",
    "plt.ylabel('Predicted output')\n",
    "plt.show()"
   ]
  },
  {
   "cell_type": "markdown",
   "id": "672e2fe7",
   "metadata": {},
   "source": [
    "#### Zero residual mean test also Failed"
   ]
  },
  {
   "cell_type": "markdown",
   "id": "39733701",
   "metadata": {},
   "source": [
    "## ================================================================="
   ]
  },
  {
   "cell_type": "markdown",
   "id": "da827a0d",
   "metadata": {},
   "source": [
    "# Model Optimization Techniques"
   ]
  },
  {
   "cell_type": "code",
   "execution_count": 4,
   "id": "2dc204e4",
   "metadata": {},
   "outputs": [
    {
     "data": {
      "text/html": [
       "<div>\n",
       "<style scoped>\n",
       "    .dataframe tbody tr th:only-of-type {\n",
       "        vertical-align: middle;\n",
       "    }\n",
       "\n",
       "    .dataframe tbody tr th {\n",
       "        vertical-align: top;\n",
       "    }\n",
       "\n",
       "    .dataframe thead th {\n",
       "        text-align: right;\n",
       "    }\n",
       "</style>\n",
       "<table border=\"1\" class=\"dataframe\">\n",
       "  <thead>\n",
       "    <tr style=\"text-align: right;\">\n",
       "      <th></th>\n",
       "      <th>HP</th>\n",
       "      <th>MPG</th>\n",
       "      <th>VOL</th>\n",
       "      <th>SP</th>\n",
       "      <th>WT</th>\n",
       "    </tr>\n",
       "  </thead>\n",
       "  <tbody>\n",
       "    <tr>\n",
       "      <th>0</th>\n",
       "      <td>49</td>\n",
       "      <td>53.700681</td>\n",
       "      <td>89</td>\n",
       "      <td>104.185353</td>\n",
       "      <td>28.762059</td>\n",
       "    </tr>\n",
       "    <tr>\n",
       "      <th>1</th>\n",
       "      <td>55</td>\n",
       "      <td>50.013401</td>\n",
       "      <td>92</td>\n",
       "      <td>105.461264</td>\n",
       "      <td>30.466833</td>\n",
       "    </tr>\n",
       "    <tr>\n",
       "      <th>2</th>\n",
       "      <td>55</td>\n",
       "      <td>50.013401</td>\n",
       "      <td>92</td>\n",
       "      <td>105.461264</td>\n",
       "      <td>30.193597</td>\n",
       "    </tr>\n",
       "    <tr>\n",
       "      <th>3</th>\n",
       "      <td>70</td>\n",
       "      <td>45.696322</td>\n",
       "      <td>92</td>\n",
       "      <td>113.461264</td>\n",
       "      <td>30.632114</td>\n",
       "    </tr>\n",
       "    <tr>\n",
       "      <th>4</th>\n",
       "      <td>53</td>\n",
       "      <td>50.504232</td>\n",
       "      <td>92</td>\n",
       "      <td>104.461264</td>\n",
       "      <td>29.889149</td>\n",
       "    </tr>\n",
       "  </tbody>\n",
       "</table>\n",
       "</div>"
      ],
      "text/plain": [
       "   HP        MPG  VOL          SP         WT\n",
       "0  49  53.700681   89  104.185353  28.762059\n",
       "1  55  50.013401   92  105.461264  30.466833\n",
       "2  55  50.013401   92  105.461264  30.193597\n",
       "3  70  45.696322   92  113.461264  30.632114\n",
       "4  53  50.504232   92  104.461264  29.889149"
      ]
     },
     "execution_count": 4,
     "metadata": {},
     "output_type": "execute_result"
    }
   ],
   "source": [
    "cars_data.head()"
   ]
  },
  {
   "cell_type": "markdown",
   "id": "c6b4f352",
   "metadata": {},
   "source": [
    "## Model Building | Model Training using Statsmodels"
   ]
  },
  {
   "cell_type": "code",
   "execution_count": 5,
   "id": "cfd7472b",
   "metadata": {},
   "outputs": [],
   "source": [
    "import statsmodels.formula.api as smf"
   ]
  },
  {
   "cell_type": "code",
   "execution_count": 6,
   "id": "62697ab4",
   "metadata": {},
   "outputs": [],
   "source": [
    "model=smf.ols(formula='MPG~VOL+HP+SP+WT', data=cars_data).fit()"
   ]
  },
  {
   "cell_type": "code",
   "execution_count": 7,
   "id": "5b84f6c9",
   "metadata": {},
   "outputs": [
    {
     "data": {
      "text/plain": [
       "Intercept    30.677336\n",
       "VOL          -0.336051\n",
       "HP           -0.205444\n",
       "SP            0.395627\n",
       "WT            0.400574\n",
       "dtype: float64"
      ]
     },
     "execution_count": 7,
     "metadata": {},
     "output_type": "execute_result"
    }
   ],
   "source": [
    "model.params"
   ]
  },
  {
   "cell_type": "code",
   "execution_count": 8,
   "id": "a7a9e560",
   "metadata": {},
   "outputs": [
    {
     "data": {
      "text/plain": [
       "Intercept    0.042936\n",
       "VOL          0.556294\n",
       "HP           0.000001\n",
       "SP           0.014579\n",
       "WT           0.813649\n",
       "dtype: float64"
      ]
     },
     "execution_count": 8,
     "metadata": {},
     "output_type": "execute_result"
    }
   ],
   "source": [
    "model.pvalues"
   ]
  },
  {
   "cell_type": "markdown",
   "id": "b8d241f5",
   "metadata": {},
   "source": [
    "## ====================================================================="
   ]
  },
  {
   "cell_type": "markdown",
   "id": "10302fac",
   "metadata": {},
   "source": [
    "### Hypothesis Statement:\n",
    "\n",
    "* H0: This feature is not significant for prediction.\n",
    "* H1: This is a significant for prediction.\n",
    "\n",
    "LOS=5%"
   ]
  },
  {
   "cell_type": "markdown",
   "id": "5ce03ee0",
   "metadata": {},
   "source": [
    "## ====================================================================="
   ]
  },
  {
   "cell_type": "code",
   "execution_count": 9,
   "id": "fbd5a66b",
   "metadata": {},
   "outputs": [
    {
     "name": "stdout",
     "output_type": "stream",
     "text": [
      "R-square                             : 0.5257\n",
      "Adjisted R-square                    : 0.5197\n",
      "Akaike Information Criterian(AIC)    : 530.7453\n",
      "Bayesian Information Criterian(BIC)  : 535.5342\n",
      "P-Values of slope                    : 1.9564901191848592e-14\n"
     ]
    }
   ],
   "source": [
    "model_1=smf.ols(formula='MPG~HP', data=cars_data).fit()\n",
    "#model_1.pvalues\n",
    "#model_1.summary()\n",
    "print('R-square                             :', round(model_1.rsquared,4))\n",
    "print('Adjisted R-square                    :', round(model_1.rsquared_adj,4))\n",
    "print('Akaike Information Criterian(AIC)    :', round(model_1.aic,4))\n",
    "print('Bayesian Information Criterian(BIC)  :', round(model_1.bic,4))\n",
    "print('P-Values of slope                    :', model_1.pvalues[1])"
   ]
  },
  {
   "cell_type": "markdown",
   "id": "8cd3092f",
   "metadata": {},
   "source": [
    "When we see each feature, each feature is significant to y"
   ]
  },
  {
   "cell_type": "code",
   "execution_count": 10,
   "id": "0c3b6bc8",
   "metadata": {},
   "outputs": [
    {
     "name": "stdout",
     "output_type": "stream",
     "text": [
      "R-square                             : 0.5326\n",
      "Adjisted R-square                    : 0.5207\n",
      "Akaike Information Criterian(AIC)    : 531.5481\n",
      "Bayesian Information Criterian(BIC)  : 538.7315\n",
      "P-Values of slope                    : HP    0.002129\n",
      "SP    0.284508\n",
      "dtype: float64\n"
     ]
    }
   ],
   "source": [
    "model_2=smf.ols(formula='MPG~HP+SP', data=cars_data).fit()\n",
    "print('R-square                             :', round(model_2.rsquared,4))\n",
    "print('Adjisted R-square                    :', round(model_2.rsquared_adj,4))\n",
    "print('Akaike Information Criterian(AIC)    :', round(model_2.aic,4))\n",
    "print('Bayesian Information Criterian(BIC)  :', round(model_2.bic,4))\n",
    "print('P-Values of slope                    :', model_2.pvalues[1:3])"
   ]
  },
  {
   "cell_type": "markdown",
   "id": "19ca6fef",
   "metadata": {},
   "source": [
    "When 2 features are correlated the p values get effected"
   ]
  },
  {
   "cell_type": "code",
   "execution_count": 11,
   "id": "06af427f",
   "metadata": {},
   "outputs": [
    {
     "name": "stdout",
     "output_type": "stream",
     "text": [
      "R-square                             : 0.7704\n",
      "Adjisted R-square                    : 0.7614\n",
      "Akaike Information Criterian(AIC)    : 475.9875\n",
      "Bayesian Information Criterian(BIC)  : 485.5653\n",
      "P-Values of slope                    : HP     8.644870e-07\n",
      "SP     1.207855e-02\n",
      "VOL    1.648229e-13\n",
      "dtype: float64\n"
     ]
    }
   ],
   "source": [
    "model_3=smf.ols(formula='MPG~HP+SP+VOL', data=cars_data).fit()\n",
    "print('R-square                             :', round(model_3.rsquared,4))\n",
    "print('Adjisted R-square                    :', round(model_3.rsquared_adj,4))\n",
    "print('Akaike Information Criterian(AIC)    :', round(model_3.aic,4))\n",
    "print('Bayesian Information Criterian(BIC)  :', round(model_3.bic,4))\n",
    "print('P-Values of slope                    :', model_3.pvalues[1:4])"
   ]
  },
  {
   "cell_type": "code",
   "execution_count": 12,
   "id": "03fda231",
   "metadata": {},
   "outputs": [
    {
     "name": "stdout",
     "output_type": "stream",
     "text": [
      "R-square                             : 0.7695\n",
      "Adjisted R-square                    : 0.7605\n",
      "Akaike Information Criterian(AIC)    : 476.2993\n",
      "Bayesian Information Criterian(BIC)  : 485.8771\n",
      "P-Values of slope                    : HP    7.560276e-07\n",
      "SP    1.089096e-02\n",
      "WT    1.914892e-13\n",
      "dtype: float64\n"
     ]
    }
   ],
   "source": [
    "model_4=smf.ols(formula='MPG~HP+SP+WT', data=cars_data).fit()\n",
    "print('R-square                             :', round(model_4.rsquared,4))\n",
    "print('Adjisted R-square                    :', round(model_4.rsquared_adj,4))\n",
    "print('Akaike Information Criterian(AIC)    :', round(model_4.aic,4))\n",
    "print('Bayesian Information Criterian(BIC)  :', round(model_4.bic,4))\n",
    "print('P-Values of slope                    :', model_4.pvalues[1:4])"
   ]
  },
  {
   "cell_type": "code",
   "execution_count": 13,
   "id": "d97e90d9",
   "metadata": {},
   "outputs": [
    {
     "name": "stdout",
     "output_type": "stream",
     "text": [
      "R-square                             : 0.7705\n",
      "Adjisted R-square                    : 0.7585\n",
      "Akaike Information Criterian(AIC)    : 477.9279\n",
      "Bayesian Information Criterian(BIC)  : 489.9002\n",
      "P-Values of slope                    : HP     0.000001\n",
      "SP     0.014579\n",
      "VOL    0.556294\n",
      "WT     0.813649\n",
      "dtype: float64\n"
     ]
    }
   ],
   "source": [
    "model_5=smf.ols(formula='MPG~HP+SP+VOL+WT', data=cars_data).fit()\n",
    "print('R-square                             :', round(model_5.rsquared,4))\n",
    "print('Adjisted R-square                    :', round(model_5.rsquared_adj,4))\n",
    "print('Akaike Information Criterian(AIC)    :', round(model_5.aic,4))\n",
    "print('Bayesian Information Criterian(BIC)  :', round(model_5.bic,4))\n",
    "print('P-Values of slope                    :', model_5.pvalues[1:5])"
   ]
  },
  {
   "cell_type": "markdown",
   "id": "d36c8b19",
   "metadata": {},
   "source": [
    "#### Model 4 is the Best Model."
   ]
  },
  {
   "cell_type": "markdown",
   "id": "6b6904c0",
   "metadata": {},
   "source": [
    "## Model Building using Sklearn Library"
   ]
  },
  {
   "cell_type": "markdown",
   "id": "fb38776a",
   "metadata": {},
   "source": [
    "#### 2 Step Approch:\n",
    "\n",
    "1. Separate your x and y\n",
    "2. Model Validation Techniques:\n",
    "  * Train-Test Split\n",
    "  * K-Fold CV\n",
    "  * LOOCV"
   ]
  },
  {
   "cell_type": "code",
   "execution_count": 14,
   "id": "1162ee9b",
   "metadata": {},
   "outputs": [],
   "source": [
    "X=cars_data.drop('MPG', axis=1)\n",
    "y=cars_data[['MPG']]"
   ]
  },
  {
   "cell_type": "code",
   "execution_count": 15,
   "id": "00055a2d",
   "metadata": {},
   "outputs": [
    {
     "data": {
      "text/plain": [
       "((81, 4), (81, 1))"
      ]
     },
     "execution_count": 15,
     "metadata": {},
     "output_type": "execute_result"
    }
   ],
   "source": [
    "X.shape, y.shape"
   ]
  },
  {
   "cell_type": "code",
   "execution_count": 19,
   "id": "29a4b922",
   "metadata": {},
   "outputs": [],
   "source": [
    "from sklearn.model_selection import train_test_split #Split arrays or matrices into random train and test subsets\n",
    "X_train,X_test,y_train,y_test=train_test_split(X,y,test_size=0.20, shuffle=True, random_state=None)"
   ]
  },
  {
   "cell_type": "code",
   "execution_count": 20,
   "id": "39739b79",
   "metadata": {},
   "outputs": [
    {
     "data": {
      "text/plain": [
       "((64, 4), (64, 1))"
      ]
     },
     "execution_count": 20,
     "metadata": {},
     "output_type": "execute_result"
    }
   ],
   "source": [
    "X_train.shape, y_train.shape #Training data"
   ]
  },
  {
   "cell_type": "code",
   "execution_count": 21,
   "id": "d1c5f6fb",
   "metadata": {},
   "outputs": [
    {
     "data": {
      "text/plain": [
       "((17, 4), (17, 1))"
      ]
     },
     "execution_count": 21,
     "metadata": {},
     "output_type": "execute_result"
    }
   ],
   "source": [
    "X_test.shape, y_test.shape #Testing data"
   ]
  },
  {
   "cell_type": "markdown",
   "id": "e4ad9282",
   "metadata": {},
   "source": [
    "## Model Training"
   ]
  },
  {
   "cell_type": "code",
   "execution_count": 22,
   "id": "d3442670",
   "metadata": {},
   "outputs": [
    {
     "data": {
      "text/plain": [
       "LinearRegression()"
      ]
     },
     "execution_count": 22,
     "metadata": {},
     "output_type": "execute_result"
    }
   ],
   "source": [
    "from sklearn.linear_model import LinearRegression\n",
    "linear_model=LinearRegression()\n",
    "linear_model.fit(X_train,y_train)"
   ]
  },
  {
   "cell_type": "markdown",
   "id": "024c7f78",
   "metadata": {},
   "source": [
    "## Model testing."
   ]
  },
  {
   "cell_type": "markdown",
   "id": "5e339328",
   "metadata": {},
   "source": [
    "#### Calculate the error for the Training data"
   ]
  },
  {
   "cell_type": "code",
   "execution_count": 29,
   "id": "fba58ca2",
   "metadata": {},
   "outputs": [],
   "source": [
    "y_pred_train=linear_model.predict(X_train)"
   ]
  },
  {
   "cell_type": "markdown",
   "id": "c107e684",
   "metadata": {},
   "source": [
    "#### Calculate the error for the Test data"
   ]
  },
  {
   "cell_type": "code",
   "execution_count": 24,
   "id": "efc4b0bd",
   "metadata": {},
   "outputs": [],
   "source": [
    "y_pred_test=linear_model.predict(X_test)"
   ]
  },
  {
   "cell_type": "markdown",
   "id": "3a56cbcd",
   "metadata": {},
   "source": [
    "## Model Evaluation"
   ]
  },
  {
   "cell_type": "code",
   "execution_count": 25,
   "id": "00c382ed",
   "metadata": {},
   "outputs": [],
   "source": [
    "from sklearn.metrics import mean_absolute_error, mean_squared_error"
   ]
  },
  {
   "cell_type": "code",
   "execution_count": 30,
   "id": "ab2dc4c2",
   "metadata": {},
   "outputs": [
    {
     "data": {
      "text/plain": [
       "18.576743959804148"
      ]
     },
     "execution_count": 30,
     "metadata": {},
     "output_type": "execute_result"
    }
   ],
   "source": [
    "mean_squared_error(y_train, y_pred_train) # For training data"
   ]
  },
  {
   "cell_type": "code",
   "execution_count": 31,
   "id": "002916ec",
   "metadata": {},
   "outputs": [
    {
     "data": {
      "text/plain": [
       "20.778206623650885"
      ]
     },
     "execution_count": 31,
     "metadata": {},
     "output_type": "execute_result"
    }
   ],
   "source": [
    "mean_squared_error(y_test, y_pred_test) # For training data"
   ]
  },
  {
   "cell_type": "code",
   "execution_count": 32,
   "id": "faf77341",
   "metadata": {},
   "outputs": [
    {
     "data": {
      "text/plain": [
       "3.2006410470181774"
      ]
     },
     "execution_count": 32,
     "metadata": {},
     "output_type": "execute_result"
    }
   ],
   "source": [
    "mean_absolute_error(y_train, y_pred_train)"
   ]
  },
  {
   "cell_type": "code",
   "execution_count": 33,
   "id": "bba3e391",
   "metadata": {},
   "outputs": [
    {
     "data": {
      "text/plain": [
       "3.5337796345780155"
      ]
     },
     "execution_count": 33,
     "metadata": {},
     "output_type": "execute_result"
    }
   ],
   "source": [
    "mean_absolute_error(y_test, y_pred_test)"
   ]
  },
  {
   "cell_type": "markdown",
   "id": "374ed5a4",
   "metadata": {},
   "source": [
    "## ====================================================================="
   ]
  },
  {
   "cell_type": "markdown",
   "id": "e00b3721",
   "metadata": {},
   "source": [
    "# Model Optimization Techniques"
   ]
  },
  {
   "cell_type": "markdown",
   "id": "34a84105",
   "metadata": {},
   "source": [
    "### TAKEAWAY:\n",
    "Here wrt to few datapoints, it is evident that most of the input features are not showing direct linear relationship with output varible. So we have to do some transformations to make to linear.\n",
    "\n",
    "**Data transformation techniques if the data is CONTINUOUS**:\n",
    "- Log Transformation\n",
    "- Square Root Transformation\n",
    "- Cube Root Transformation \n",
    "- Reciprocal Transformation\n",
    "- Boxcox Transformation\n",
    "- Standard Scaler\n",
    "- Min Max Scaler\n",
    "- Robust Scaler\n",
    "\n",
    "**Data transformation techniques if the data is DISCRETE**:\n",
    "- Label Encoding\n",
    "- One Hot Encoding"
   ]
  },
  {
   "cell_type": "markdown",
   "id": "277802aa",
   "metadata": {},
   "source": [
    "### Applying Log Transformation"
   ]
  },
  {
   "cell_type": "code",
   "execution_count": 41,
   "id": "38f5746d",
   "metadata": {},
   "outputs": [
    {
     "data": {
      "text/html": [
       "<div>\n",
       "<style scoped>\n",
       "    .dataframe tbody tr th:only-of-type {\n",
       "        vertical-align: middle;\n",
       "    }\n",
       "\n",
       "    .dataframe tbody tr th {\n",
       "        vertical-align: top;\n",
       "    }\n",
       "\n",
       "    .dataframe thead th {\n",
       "        text-align: right;\n",
       "    }\n",
       "</style>\n",
       "<table border=\"1\" class=\"dataframe\">\n",
       "  <thead>\n",
       "    <tr style=\"text-align: right;\">\n",
       "      <th></th>\n",
       "      <th>HP</th>\n",
       "      <th>MPG</th>\n",
       "      <th>VOL</th>\n",
       "      <th>SP</th>\n",
       "      <th>WT</th>\n",
       "    </tr>\n",
       "  </thead>\n",
       "  <tbody>\n",
       "    <tr>\n",
       "      <th>0</th>\n",
       "      <td>49</td>\n",
       "      <td>53.700681</td>\n",
       "      <td>89</td>\n",
       "      <td>104.185353</td>\n",
       "      <td>28.762059</td>\n",
       "    </tr>\n",
       "    <tr>\n",
       "      <th>1</th>\n",
       "      <td>55</td>\n",
       "      <td>50.013401</td>\n",
       "      <td>92</td>\n",
       "      <td>105.461264</td>\n",
       "      <td>30.466833</td>\n",
       "    </tr>\n",
       "    <tr>\n",
       "      <th>2</th>\n",
       "      <td>55</td>\n",
       "      <td>50.013401</td>\n",
       "      <td>92</td>\n",
       "      <td>105.461264</td>\n",
       "      <td>30.193597</td>\n",
       "    </tr>\n",
       "    <tr>\n",
       "      <th>3</th>\n",
       "      <td>70</td>\n",
       "      <td>45.696322</td>\n",
       "      <td>92</td>\n",
       "      <td>113.461264</td>\n",
       "      <td>30.632114</td>\n",
       "    </tr>\n",
       "    <tr>\n",
       "      <th>4</th>\n",
       "      <td>53</td>\n",
       "      <td>50.504232</td>\n",
       "      <td>92</td>\n",
       "      <td>104.461264</td>\n",
       "      <td>29.889149</td>\n",
       "    </tr>\n",
       "    <tr>\n",
       "      <th>...</th>\n",
       "      <td>...</td>\n",
       "      <td>...</td>\n",
       "      <td>...</td>\n",
       "      <td>...</td>\n",
       "      <td>...</td>\n",
       "    </tr>\n",
       "    <tr>\n",
       "      <th>76</th>\n",
       "      <td>322</td>\n",
       "      <td>36.900000</td>\n",
       "      <td>50</td>\n",
       "      <td>169.598513</td>\n",
       "      <td>16.132947</td>\n",
       "    </tr>\n",
       "    <tr>\n",
       "      <th>77</th>\n",
       "      <td>238</td>\n",
       "      <td>19.197888</td>\n",
       "      <td>115</td>\n",
       "      <td>150.576579</td>\n",
       "      <td>37.923113</td>\n",
       "    </tr>\n",
       "    <tr>\n",
       "      <th>78</th>\n",
       "      <td>263</td>\n",
       "      <td>34.000000</td>\n",
       "      <td>50</td>\n",
       "      <td>151.598513</td>\n",
       "      <td>15.769625</td>\n",
       "    </tr>\n",
       "    <tr>\n",
       "      <th>79</th>\n",
       "      <td>295</td>\n",
       "      <td>19.833733</td>\n",
       "      <td>119</td>\n",
       "      <td>167.944460</td>\n",
       "      <td>39.423099</td>\n",
       "    </tr>\n",
       "    <tr>\n",
       "      <th>80</th>\n",
       "      <td>236</td>\n",
       "      <td>12.101263</td>\n",
       "      <td>107</td>\n",
       "      <td>139.840817</td>\n",
       "      <td>34.948615</td>\n",
       "    </tr>\n",
       "  </tbody>\n",
       "</table>\n",
       "<p>81 rows × 5 columns</p>\n",
       "</div>"
      ],
      "text/plain": [
       "     HP        MPG  VOL          SP         WT\n",
       "0    49  53.700681   89  104.185353  28.762059\n",
       "1    55  50.013401   92  105.461264  30.466833\n",
       "2    55  50.013401   92  105.461264  30.193597\n",
       "3    70  45.696322   92  113.461264  30.632114\n",
       "4    53  50.504232   92  104.461264  29.889149\n",
       "..  ...        ...  ...         ...        ...\n",
       "76  322  36.900000   50  169.598513  16.132947\n",
       "77  238  19.197888  115  150.576579  37.923113\n",
       "78  263  34.000000   50  151.598513  15.769625\n",
       "79  295  19.833733  119  167.944460  39.423099\n",
       "80  236  12.101263  107  139.840817  34.948615\n",
       "\n",
       "[81 rows x 5 columns]"
      ]
     },
     "execution_count": 41,
     "metadata": {},
     "output_type": "execute_result"
    }
   ],
   "source": [
    "X_input=cars_data.copy()\n",
    "X_input"
   ]
  },
  {
   "cell_type": "code",
   "execution_count": 42,
   "id": "1739a06c",
   "metadata": {},
   "outputs": [],
   "source": [
    "import numpy as np"
   ]
  },
  {
   "cell_type": "code",
   "execution_count": 43,
   "id": "a5d0a11b",
   "metadata": {},
   "outputs": [
    {
     "data": {
      "text/html": [
       "<div>\n",
       "<style scoped>\n",
       "    .dataframe tbody tr th:only-of-type {\n",
       "        vertical-align: middle;\n",
       "    }\n",
       "\n",
       "    .dataframe tbody tr th {\n",
       "        vertical-align: top;\n",
       "    }\n",
       "\n",
       "    .dataframe thead th {\n",
       "        text-align: right;\n",
       "    }\n",
       "</style>\n",
       "<table border=\"1\" class=\"dataframe\">\n",
       "  <thead>\n",
       "    <tr style=\"text-align: right;\">\n",
       "      <th></th>\n",
       "      <th>HP</th>\n",
       "      <th>MPG</th>\n",
       "      <th>VOL</th>\n",
       "      <th>SP</th>\n",
       "      <th>WT</th>\n",
       "      <th>logHP</th>\n",
       "      <th>logSP</th>\n",
       "      <th>logVOL</th>\n",
       "      <th>logWT</th>\n",
       "    </tr>\n",
       "  </thead>\n",
       "  <tbody>\n",
       "    <tr>\n",
       "      <th>0</th>\n",
       "      <td>49</td>\n",
       "      <td>53.700681</td>\n",
       "      <td>89</td>\n",
       "      <td>104.185353</td>\n",
       "      <td>28.762059</td>\n",
       "      <td>3.891820</td>\n",
       "      <td>4.646172</td>\n",
       "      <td>4.488636</td>\n",
       "      <td>3.359057</td>\n",
       "    </tr>\n",
       "    <tr>\n",
       "      <th>1</th>\n",
       "      <td>55</td>\n",
       "      <td>50.013401</td>\n",
       "      <td>92</td>\n",
       "      <td>105.461264</td>\n",
       "      <td>30.466833</td>\n",
       "      <td>4.007333</td>\n",
       "      <td>4.658344</td>\n",
       "      <td>4.521789</td>\n",
       "      <td>3.416639</td>\n",
       "    </tr>\n",
       "    <tr>\n",
       "      <th>2</th>\n",
       "      <td>55</td>\n",
       "      <td>50.013401</td>\n",
       "      <td>92</td>\n",
       "      <td>105.461264</td>\n",
       "      <td>30.193597</td>\n",
       "      <td>4.007333</td>\n",
       "      <td>4.658344</td>\n",
       "      <td>4.521789</td>\n",
       "      <td>3.407630</td>\n",
       "    </tr>\n",
       "    <tr>\n",
       "      <th>3</th>\n",
       "      <td>70</td>\n",
       "      <td>45.696322</td>\n",
       "      <td>92</td>\n",
       "      <td>113.461264</td>\n",
       "      <td>30.632114</td>\n",
       "      <td>4.248495</td>\n",
       "      <td>4.731461</td>\n",
       "      <td>4.521789</td>\n",
       "      <td>3.422049</td>\n",
       "    </tr>\n",
       "    <tr>\n",
       "      <th>4</th>\n",
       "      <td>53</td>\n",
       "      <td>50.504232</td>\n",
       "      <td>92</td>\n",
       "      <td>104.461264</td>\n",
       "      <td>29.889149</td>\n",
       "      <td>3.970292</td>\n",
       "      <td>4.648816</td>\n",
       "      <td>4.521789</td>\n",
       "      <td>3.397495</td>\n",
       "    </tr>\n",
       "    <tr>\n",
       "      <th>...</th>\n",
       "      <td>...</td>\n",
       "      <td>...</td>\n",
       "      <td>...</td>\n",
       "      <td>...</td>\n",
       "      <td>...</td>\n",
       "      <td>...</td>\n",
       "      <td>...</td>\n",
       "      <td>...</td>\n",
       "      <td>...</td>\n",
       "    </tr>\n",
       "    <tr>\n",
       "      <th>76</th>\n",
       "      <td>322</td>\n",
       "      <td>36.900000</td>\n",
       "      <td>50</td>\n",
       "      <td>169.598513</td>\n",
       "      <td>16.132947</td>\n",
       "      <td>5.774552</td>\n",
       "      <td>5.133434</td>\n",
       "      <td>3.912023</td>\n",
       "      <td>2.780864</td>\n",
       "    </tr>\n",
       "    <tr>\n",
       "      <th>77</th>\n",
       "      <td>238</td>\n",
       "      <td>19.197888</td>\n",
       "      <td>115</td>\n",
       "      <td>150.576579</td>\n",
       "      <td>37.923113</td>\n",
       "      <td>5.472271</td>\n",
       "      <td>5.014472</td>\n",
       "      <td>4.744932</td>\n",
       "      <td>3.635561</td>\n",
       "    </tr>\n",
       "    <tr>\n",
       "      <th>78</th>\n",
       "      <td>263</td>\n",
       "      <td>34.000000</td>\n",
       "      <td>50</td>\n",
       "      <td>151.598513</td>\n",
       "      <td>15.769625</td>\n",
       "      <td>5.572154</td>\n",
       "      <td>5.021236</td>\n",
       "      <td>3.912023</td>\n",
       "      <td>2.758086</td>\n",
       "    </tr>\n",
       "    <tr>\n",
       "      <th>79</th>\n",
       "      <td>295</td>\n",
       "      <td>19.833733</td>\n",
       "      <td>119</td>\n",
       "      <td>167.944460</td>\n",
       "      <td>39.423099</td>\n",
       "      <td>5.686975</td>\n",
       "      <td>5.123633</td>\n",
       "      <td>4.779123</td>\n",
       "      <td>3.674352</td>\n",
       "    </tr>\n",
       "    <tr>\n",
       "      <th>80</th>\n",
       "      <td>236</td>\n",
       "      <td>12.101263</td>\n",
       "      <td>107</td>\n",
       "      <td>139.840817</td>\n",
       "      <td>34.948615</td>\n",
       "      <td>5.463832</td>\n",
       "      <td>4.940505</td>\n",
       "      <td>4.672829</td>\n",
       "      <td>3.553879</td>\n",
       "    </tr>\n",
       "  </tbody>\n",
       "</table>\n",
       "<p>81 rows × 9 columns</p>\n",
       "</div>"
      ],
      "text/plain": [
       "     HP        MPG  VOL          SP         WT     logHP     logSP    logVOL  \\\n",
       "0    49  53.700681   89  104.185353  28.762059  3.891820  4.646172  4.488636   \n",
       "1    55  50.013401   92  105.461264  30.466833  4.007333  4.658344  4.521789   \n",
       "2    55  50.013401   92  105.461264  30.193597  4.007333  4.658344  4.521789   \n",
       "3    70  45.696322   92  113.461264  30.632114  4.248495  4.731461  4.521789   \n",
       "4    53  50.504232   92  104.461264  29.889149  3.970292  4.648816  4.521789   \n",
       "..  ...        ...  ...         ...        ...       ...       ...       ...   \n",
       "76  322  36.900000   50  169.598513  16.132947  5.774552  5.133434  3.912023   \n",
       "77  238  19.197888  115  150.576579  37.923113  5.472271  5.014472  4.744932   \n",
       "78  263  34.000000   50  151.598513  15.769625  5.572154  5.021236  3.912023   \n",
       "79  295  19.833733  119  167.944460  39.423099  5.686975  5.123633  4.779123   \n",
       "80  236  12.101263  107  139.840817  34.948615  5.463832  4.940505  4.672829   \n",
       "\n",
       "       logWT  \n",
       "0   3.359057  \n",
       "1   3.416639  \n",
       "2   3.407630  \n",
       "3   3.422049  \n",
       "4   3.397495  \n",
       "..       ...  \n",
       "76  2.780864  \n",
       "77  3.635561  \n",
       "78  2.758086  \n",
       "79  3.674352  \n",
       "80  3.553879  \n",
       "\n",
       "[81 rows x 9 columns]"
      ]
     },
     "execution_count": 43,
     "metadata": {},
     "output_type": "execute_result"
    }
   ],
   "source": [
    "X_input['logHP']=np.log(X_input['HP'])\n",
    "X_input['logSP']=np.log(X_input['SP'])\n",
    "X_input['logVOL']=np.log(X_input['VOL'])\n",
    "X_input['logWT']=np.log(X_input['WT'])\n",
    "X_input"
   ]
  },
  {
   "cell_type": "markdown",
   "id": "15db00d1",
   "metadata": {},
   "source": [
    "#### 2.Linearity Test"
   ]
  },
  {
   "cell_type": "code",
   "execution_count": 45,
   "id": "9abb1d5a",
   "metadata": {},
   "outputs": [
    {
     "data": {
      "image/png": "[encoded data removed]",
      "text/plain": [
       "<Figure size 360x360 with 1 Axes>"
      ]
     },
     "metadata": {
      "needs_background": "light"
     },
     "output_type": "display_data"
    },
    {
     "data": {
      "image/png": "[encoded data removed]",
      "text/plain": [
       "<Figure size 360x360 with 1 Axes>"
      ]
     },
     "metadata": {
      "needs_background": "light"
     },
     "output_type": "display_data"
    }
   ],
   "source": [
    "sns.lmplot(x='HP',y='MPG',data=X_input)\n",
    "plt.title('HP Vs MPG')\n",
    "\n",
    "sns.lmplot(x='logHP',y='MPG',data=X_input)\n",
    "plt.title('logHP Vs MPG')\n",
    "plt.show()"
   ]
  },
  {
   "cell_type": "code",
   "execution_count": 46,
   "id": "58d760d5",
   "metadata": {},
   "outputs": [
    {
     "data": {
      "image/png": "[encoded data removed]",
      "text/plain": [
       "<Figure size 360x360 with 1 Axes>"
      ]
     },
     "metadata": {
      "needs_background": "light"
     },
     "output_type": "display_data"
    },
    {
     "data": {
      "image/png": "[encoded data removed]",
      "text/plain": [
       "<Figure size 360x360 with 1 Axes>"
      ]
     },
     "metadata": {
      "needs_background": "light"
     },
     "output_type": "display_data"
    }
   ],
   "source": [
    "sns.lmplot(x='VOL',y='MPG',data=X_input)\n",
    "plt.title('VOL Vs MPG')\n",
    "\n",
    "sns.lmplot(x='logVOL',y='MPG',data=X_input)\n",
    "plt.title('logVOL Vs MPG')\n",
    "plt.show()"
   ]
  },
  {
   "cell_type": "code",
   "execution_count": 47,
   "id": "47fbe576",
   "metadata": {},
   "outputs": [
    {
     "data": {
      "image/png": "[encoded data removed]",
      "text/plain": [
       "<Figure size 360x360 with 1 Axes>"
      ]
     },
     "metadata": {
      "needs_background": "light"
     },
     "output_type": "display_data"
    },
    {
     "data": {
      "image/png": "[encoded data removed]",
      "text/plain": [
       "<Figure size 360x360 with 1 Axes>"
      ]
     },
     "metadata": {
      "needs_background": "light"
     },
     "output_type": "display_data"
    }
   ],
   "source": [
    "sns.lmplot(x='SP',y='MPG',data=X_input)\n",
    "plt.title('SP Vs MPG')\n",
    "\n",
    "sns.lmplot(x='logSP',y='MPG',data=X_input)\n",
    "plt.title('logSP Vs MPG')\n",
    "plt.show()"
   ]
  },
  {
   "cell_type": "code",
   "execution_count": 48,
   "id": "62946315",
   "metadata": {},
   "outputs": [
    {
     "data": {
      "image/png": "[encoded data removed]",
      "text/plain": [
       "<Figure size 360x360 with 1 Axes>"
      ]
     },
     "metadata": {
      "needs_background": "light"
     },
     "output_type": "display_data"
    },
    {
     "data": {
      "image/png": "[encoded data removed]",
      "text/plain": [
       "<Figure size 360x360 with 1 Axes>"
      ]
     },
     "metadata": {
      "needs_background": "light"
     },
     "output_type": "display_data"
    }
   ],
   "source": [
    "sns.lmplot(x='WT',y='MPG',data=X_input)\n",
    "plt.title('WT Vs MPG')\n",
    "\n",
    "sns.lmplot(x='logWT',y='MPG',data=X_input)\n",
    "plt.title('logWT Vs MPG')\n",
    "plt.show()"
   ]
  },
  {
   "cell_type": "markdown",
   "id": "4bbab260",
   "metadata": {},
   "source": [
    "#### Linearity test also Failed"
   ]
  },
  {
   "cell_type": "markdown",
   "id": "a157e228",
   "metadata": {},
   "source": [
    "## Model Building"
   ]
  },
  {
   "cell_type": "code",
   "execution_count": 51,
   "id": "57e92e83",
   "metadata": {},
   "outputs": [],
   "source": [
    "X=X_input[['logHP','logSP','logWT']]\n",
    "y=X_input[['MPG']]"
   ]
  },
  {
   "cell_type": "code",
   "execution_count": 52,
   "id": "91a509b7",
   "metadata": {},
   "outputs": [
    {
     "data": {
      "text/plain": [
       "((81, 3), (81, 1))"
      ]
     },
     "execution_count": 52,
     "metadata": {},
     "output_type": "execute_result"
    }
   ],
   "source": [
    "X.shape, y.shape"
   ]
  },
  {
   "cell_type": "code",
   "execution_count": 53,
   "id": "7d956f57",
   "metadata": {},
   "outputs": [],
   "source": [
    "from sklearn.model_selection import train_test_split #Split arrays or matrices into random train and test subsets\n",
    "X_train,X_test,y_train,y_test=train_test_split(X,y,test_size=0.20, shuffle=True, random_state=None)"
   ]
  },
  {
   "cell_type": "code",
   "execution_count": 54,
   "id": "5e665413",
   "metadata": {},
   "outputs": [
    {
     "data": {
      "text/plain": [
       "((64, 3), (64, 1))"
      ]
     },
     "execution_count": 54,
     "metadata": {},
     "output_type": "execute_result"
    }
   ],
   "source": [
    "X_train.shape, y_train.shape #Training data"
   ]
  },
  {
   "cell_type": "code",
   "execution_count": 55,
   "id": "e0d8ffd6",
   "metadata": {},
   "outputs": [
    {
     "data": {
      "text/plain": [
       "((17, 3), (17, 1))"
      ]
     },
     "execution_count": 55,
     "metadata": {},
     "output_type": "execute_result"
    }
   ],
   "source": [
    "X_test.shape, y_test.shape #Testing data"
   ]
  },
  {
   "cell_type": "markdown",
   "id": "e29605fd",
   "metadata": {},
   "source": [
    "## Model Training"
   ]
  },
  {
   "cell_type": "code",
   "execution_count": 56,
   "id": "a1e5043b",
   "metadata": {},
   "outputs": [
    {
     "data": {
      "text/plain": [
       "LinearRegression()"
      ]
     },
     "execution_count": 56,
     "metadata": {},
     "output_type": "execute_result"
    }
   ],
   "source": [
    "from sklearn.linear_model import LinearRegression\n",
    "linear_model=LinearRegression()\n",
    "linear_model.fit(X_train,y_train)"
   ]
  },
  {
   "cell_type": "markdown",
   "id": "83e02c40",
   "metadata": {},
   "source": [
    "## Model testing."
   ]
  },
  {
   "cell_type": "markdown",
   "id": "8c4c482f",
   "metadata": {},
   "source": [
    "#### Calculate the error for the Training data"
   ]
  },
  {
   "cell_type": "code",
   "execution_count": 57,
   "id": "677fee06",
   "metadata": {},
   "outputs": [],
   "source": [
    "y_pred_train=linear_model.predict(X_train)"
   ]
  },
  {
   "cell_type": "markdown",
   "id": "de64d148",
   "metadata": {},
   "source": [
    "#### Calculate the error for the Test data"
   ]
  },
  {
   "cell_type": "code",
   "execution_count": 58,
   "id": "824101d2",
   "metadata": {},
   "outputs": [],
   "source": [
    "y_pred_test=linear_model.predict(X_test)"
   ]
  },
  {
   "cell_type": "markdown",
   "id": "3c709335",
   "metadata": {},
   "source": [
    "## Model Evaluation"
   ]
  },
  {
   "cell_type": "code",
   "execution_count": 59,
   "id": "988a2d9e",
   "metadata": {},
   "outputs": [],
   "source": [
    "from sklearn.metrics import mean_absolute_error, mean_squared_error"
   ]
  },
  {
   "cell_type": "code",
   "execution_count": 60,
   "id": "106b27e7",
   "metadata": {},
   "outputs": [
    {
     "data": {
      "text/plain": [
       "5.257828121383239"
      ]
     },
     "execution_count": 60,
     "metadata": {},
     "output_type": "execute_result"
    }
   ],
   "source": [
    "mean_squared_error(y_train, y_pred_train) # For training data"
   ]
  },
  {
   "cell_type": "code",
   "execution_count": 61,
   "id": "9df08dba",
   "metadata": {},
   "outputs": [
    {
     "data": {
      "text/plain": [
       "19.093266863857487"
      ]
     },
     "execution_count": 61,
     "metadata": {},
     "output_type": "execute_result"
    }
   ],
   "source": [
    "mean_squared_error(y_test, y_pred_test) # For training data"
   ]
  },
  {
   "cell_type": "code",
   "execution_count": 62,
   "id": "7dec063c",
   "metadata": {},
   "outputs": [
    {
     "data": {
      "text/plain": [
       "1.4370698891427969"
      ]
     },
     "execution_count": 62,
     "metadata": {},
     "output_type": "execute_result"
    }
   ],
   "source": [
    "mean_absolute_error(y_train, y_pred_train)"
   ]
  },
  {
   "cell_type": "code",
   "execution_count": 64,
   "id": "d5f84d22",
   "metadata": {},
   "outputs": [
    {
     "data": {
      "text/plain": [
       "2.8072842035469527"
      ]
     },
     "execution_count": 64,
     "metadata": {},
     "output_type": "execute_result"
    }
   ],
   "source": [
    "mean_absolute_error(y_test, y_pred_test)"
   ]
  },
  {
   "cell_type": "markdown",
   "id": "2ac22c0e",
   "metadata": {},
   "source": [
    "## Model Building using Statsmodel"
   ]
  },
  {
   "cell_type": "code",
   "execution_count": 66,
   "id": "6d5e2c7b",
   "metadata": {},
   "outputs": [
    {
     "name": "stdout",
     "output_type": "stream",
     "text": [
      "R-square                           :  0.7114\n",
      "Adjusted R-square                  :  0.7078\n",
      "Akaike information criterion (AIC) :  490.4986\n",
      "Bayesian information criterion(BIC):  495.2875\n"
     ]
    }
   ],
   "source": [
    "model_1 = smf.ols(formula = 'MPG~logHP', data = X_input).fit()\n",
    "print('R-square                           : ',round(model_1.rsquared,4))\n",
    "print('Adjusted R-square                  : ',round(model_1.rsquared_adj,4))\n",
    "print('Akaike information criterion (AIC) : ',round(model_1.aic,4))\n",
    "print('Bayesian information criterion(BIC): ',round(model_1.bic,4))"
   ]
  },
  {
   "cell_type": "code",
   "execution_count": 71,
   "id": "7b4cc3e0",
   "metadata": {},
   "outputs": [
    {
     "name": "stdout",
     "output_type": "stream",
     "text": [
      "R-square                           :  0.9116\n",
      "Adjusted R-square                  :  0.9081\n",
      "Akaike information criterion (AIC) :  398.6808\n",
      "Bayesian information criterion(BIC):  408.2586\n"
     ]
    }
   ],
   "source": [
    "model_2 = smf.ols(formula = 'MPG~logHP+logSP+logWT', data = X_input).fit()\n",
    "print('R-square                           : ',round(model_2.rsquared,4))\n",
    "print('Adjusted R-square                  : ',round(model_2.rsquared_adj,4))\n",
    "print('Akaike information criterion (AIC) : ',round(model_2.aic,4))\n",
    "print('Bayesian information criterion(BIC): ',round(model_2.bic,4))"
   ]
  },
  {
   "cell_type": "code",
   "execution_count": 72,
   "id": "0523eed2",
   "metadata": {},
   "outputs": [
    {
     "name": "stdout",
     "output_type": "stream",
     "text": [
      "R-square                           :  0.9118\n",
      "Adjusted R-square                  :  0.9071\n",
      "Akaike information criterion (AIC) :  400.5013\n",
      "Bayesian information criterion(BIC):  412.4736\n"
     ]
    }
   ],
   "source": [
    "model_3 = smf.ols(formula = 'MPG~logHP+logSP+logVOL+logWT', data = X_input).fit()\n",
    "print('R-square                           : ',round(model_3.rsquared,4))\n",
    "print('Adjusted R-square                  : ',round(model_3.rsquared_adj,4))\n",
    "print('Akaike information criterion (AIC) : ',round(model_3.aic,4))\n",
    "print('Bayesian information criterion(BIC): ',round(model_3.bic,4))"
   ]
  }
 ],
 "metadata": {
  "kernelspec": {
   "display_name": "Python 3",
   "language": "python",
   "name": "python3"
  },
  "language_info": {
   "codemirror_mode": {
    "name": "ipython",
    "version": 3
   },
   "file_extension": ".py",
   "mimetype": "text/x-python",
   "name": "python",
   "nbconvert_exporter": "python",
   "pygments_lexer": "ipython3",
   "version": "3.8.8"
  }
 },
 "nbformat": 4,
 "nbformat_minor": 5
}
