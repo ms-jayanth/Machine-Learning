{
 "cells": [
  {
   "cell_type": "markdown",
   "id": "068383fc",
   "metadata": {},
   "source": [
    "## Feature Engineering\n",
    "\n",
    "Whatever you do wih features, we call it as Feature Engineering.\n",
    "\n",
    "* Feature Elimination    - dropping the features.\n",
    "* Feature Addition       - adding some features.\n",
    "* Feature Transformation - transforming the given feature values into an another scale - Log Tranformation, Sqrt Transformation..\n",
    "* Feature Selection      - deciding which features are important out of many features and choosing that features for model building."
   ]
  },
  {
   "cell_type": "markdown",
   "id": "3a4ebafd",
   "metadata": {},
   "source": [
    "### Feature Selection Techniques\n",
    "\n",
    "* sklearn - SelectFromModel\n",
    "* sklearn - RFE(ie,Recursive Feature Elimination)"
   ]
  },
  {
   "cell_type": "markdown",
   "id": "07edd084",
   "metadata": {},
   "source": [
    "## 1. Import Necessary Data"
   ]
  },
  {
   "cell_type": "code",
   "execution_count": 1,
   "id": "863c98c7",
   "metadata": {},
   "outputs": [],
   "source": [
    "import pandas as pd\n",
    "\n",
    "from sklearn.datasets import load_breast_cancer\n",
    "from sklearn.model_selection import train_test_split\n",
    "from sklearn.metrics import accuracy_score, precision_score, recall_score, confusion_matrix\n",
    "\n",
    "from sklearn.ensemble import RandomForestClassifier, GradientBoostingClassifier\n",
    "from sklearn.feature_selection import RFE, SelectFromModel\n",
    "\n",
    "import warnings\n",
    "warnings.filterwarnings('ignore')"
   ]
  },
  {
   "cell_type": "markdown",
   "id": "bc38798e",
   "metadata": {},
   "source": [
    "## 2. Load the Data"
   ]
  },
  {
   "cell_type": "code",
   "execution_count": 2,
   "id": "2b347a96",
   "metadata": {},
   "outputs": [],
   "source": [
    "breast_cancer_data=load_breast_cancer()"
   ]
  },
  {
   "cell_type": "code",
   "execution_count": 3,
   "id": "c3b49289",
   "metadata": {},
   "outputs": [
    {
     "data": {
      "text/html": [
       "<div>\n",
       "<style scoped>\n",
       "    .dataframe tbody tr th:only-of-type {\n",
       "        vertical-align: middle;\n",
       "    }\n",
       "\n",
       "    .dataframe tbody tr th {\n",
       "        vertical-align: top;\n",
       "    }\n",
       "\n",
       "    .dataframe thead th {\n",
       "        text-align: right;\n",
       "    }\n",
       "</style>\n",
       "<table border=\"1\" class=\"dataframe\">\n",
       "  <thead>\n",
       "    <tr style=\"text-align: right;\">\n",
       "      <th></th>\n",
       "      <th>mean radius</th>\n",
       "      <th>mean texture</th>\n",
       "      <th>mean perimeter</th>\n",
       "      <th>mean area</th>\n",
       "      <th>mean smoothness</th>\n",
       "      <th>mean compactness</th>\n",
       "      <th>mean concavity</th>\n",
       "      <th>mean concave points</th>\n",
       "      <th>mean symmetry</th>\n",
       "      <th>mean fractal dimension</th>\n",
       "      <th>...</th>\n",
       "      <th>worst texture</th>\n",
       "      <th>worst perimeter</th>\n",
       "      <th>worst area</th>\n",
       "      <th>worst smoothness</th>\n",
       "      <th>worst compactness</th>\n",
       "      <th>worst concavity</th>\n",
       "      <th>worst concave points</th>\n",
       "      <th>worst symmetry</th>\n",
       "      <th>worst fractal dimension</th>\n",
       "      <th>target</th>\n",
       "    </tr>\n",
       "  </thead>\n",
       "  <tbody>\n",
       "    <tr>\n",
       "      <th>0</th>\n",
       "      <td>17.99</td>\n",
       "      <td>10.38</td>\n",
       "      <td>122.80</td>\n",
       "      <td>1001.0</td>\n",
       "      <td>0.11840</td>\n",
       "      <td>0.27760</td>\n",
       "      <td>0.30010</td>\n",
       "      <td>0.14710</td>\n",
       "      <td>0.2419</td>\n",
       "      <td>0.07871</td>\n",
       "      <td>...</td>\n",
       "      <td>17.33</td>\n",
       "      <td>184.60</td>\n",
       "      <td>2019.0</td>\n",
       "      <td>0.16220</td>\n",
       "      <td>0.66560</td>\n",
       "      <td>0.7119</td>\n",
       "      <td>0.2654</td>\n",
       "      <td>0.4601</td>\n",
       "      <td>0.11890</td>\n",
       "      <td>0</td>\n",
       "    </tr>\n",
       "    <tr>\n",
       "      <th>1</th>\n",
       "      <td>20.57</td>\n",
       "      <td>17.77</td>\n",
       "      <td>132.90</td>\n",
       "      <td>1326.0</td>\n",
       "      <td>0.08474</td>\n",
       "      <td>0.07864</td>\n",
       "      <td>0.08690</td>\n",
       "      <td>0.07017</td>\n",
       "      <td>0.1812</td>\n",
       "      <td>0.05667</td>\n",
       "      <td>...</td>\n",
       "      <td>23.41</td>\n",
       "      <td>158.80</td>\n",
       "      <td>1956.0</td>\n",
       "      <td>0.12380</td>\n",
       "      <td>0.18660</td>\n",
       "      <td>0.2416</td>\n",
       "      <td>0.1860</td>\n",
       "      <td>0.2750</td>\n",
       "      <td>0.08902</td>\n",
       "      <td>0</td>\n",
       "    </tr>\n",
       "    <tr>\n",
       "      <th>2</th>\n",
       "      <td>19.69</td>\n",
       "      <td>21.25</td>\n",
       "      <td>130.00</td>\n",
       "      <td>1203.0</td>\n",
       "      <td>0.10960</td>\n",
       "      <td>0.15990</td>\n",
       "      <td>0.19740</td>\n",
       "      <td>0.12790</td>\n",
       "      <td>0.2069</td>\n",
       "      <td>0.05999</td>\n",
       "      <td>...</td>\n",
       "      <td>25.53</td>\n",
       "      <td>152.50</td>\n",
       "      <td>1709.0</td>\n",
       "      <td>0.14440</td>\n",
       "      <td>0.42450</td>\n",
       "      <td>0.4504</td>\n",
       "      <td>0.2430</td>\n",
       "      <td>0.3613</td>\n",
       "      <td>0.08758</td>\n",
       "      <td>0</td>\n",
       "    </tr>\n",
       "    <tr>\n",
       "      <th>3</th>\n",
       "      <td>11.42</td>\n",
       "      <td>20.38</td>\n",
       "      <td>77.58</td>\n",
       "      <td>386.1</td>\n",
       "      <td>0.14250</td>\n",
       "      <td>0.28390</td>\n",
       "      <td>0.24140</td>\n",
       "      <td>0.10520</td>\n",
       "      <td>0.2597</td>\n",
       "      <td>0.09744</td>\n",
       "      <td>...</td>\n",
       "      <td>26.50</td>\n",
       "      <td>98.87</td>\n",
       "      <td>567.7</td>\n",
       "      <td>0.20980</td>\n",
       "      <td>0.86630</td>\n",
       "      <td>0.6869</td>\n",
       "      <td>0.2575</td>\n",
       "      <td>0.6638</td>\n",
       "      <td>0.17300</td>\n",
       "      <td>0</td>\n",
       "    </tr>\n",
       "    <tr>\n",
       "      <th>4</th>\n",
       "      <td>20.29</td>\n",
       "      <td>14.34</td>\n",
       "      <td>135.10</td>\n",
       "      <td>1297.0</td>\n",
       "      <td>0.10030</td>\n",
       "      <td>0.13280</td>\n",
       "      <td>0.19800</td>\n",
       "      <td>0.10430</td>\n",
       "      <td>0.1809</td>\n",
       "      <td>0.05883</td>\n",
       "      <td>...</td>\n",
       "      <td>16.67</td>\n",
       "      <td>152.20</td>\n",
       "      <td>1575.0</td>\n",
       "      <td>0.13740</td>\n",
       "      <td>0.20500</td>\n",
       "      <td>0.4000</td>\n",
       "      <td>0.1625</td>\n",
       "      <td>0.2364</td>\n",
       "      <td>0.07678</td>\n",
       "      <td>0</td>\n",
       "    </tr>\n",
       "    <tr>\n",
       "      <th>...</th>\n",
       "      <td>...</td>\n",
       "      <td>...</td>\n",
       "      <td>...</td>\n",
       "      <td>...</td>\n",
       "      <td>...</td>\n",
       "      <td>...</td>\n",
       "      <td>...</td>\n",
       "      <td>...</td>\n",
       "      <td>...</td>\n",
       "      <td>...</td>\n",
       "      <td>...</td>\n",
       "      <td>...</td>\n",
       "      <td>...</td>\n",
       "      <td>...</td>\n",
       "      <td>...</td>\n",
       "      <td>...</td>\n",
       "      <td>...</td>\n",
       "      <td>...</td>\n",
       "      <td>...</td>\n",
       "      <td>...</td>\n",
       "      <td>...</td>\n",
       "    </tr>\n",
       "    <tr>\n",
       "      <th>564</th>\n",
       "      <td>21.56</td>\n",
       "      <td>22.39</td>\n",
       "      <td>142.00</td>\n",
       "      <td>1479.0</td>\n",
       "      <td>0.11100</td>\n",
       "      <td>0.11590</td>\n",
       "      <td>0.24390</td>\n",
       "      <td>0.13890</td>\n",
       "      <td>0.1726</td>\n",
       "      <td>0.05623</td>\n",
       "      <td>...</td>\n",
       "      <td>26.40</td>\n",
       "      <td>166.10</td>\n",
       "      <td>2027.0</td>\n",
       "      <td>0.14100</td>\n",
       "      <td>0.21130</td>\n",
       "      <td>0.4107</td>\n",
       "      <td>0.2216</td>\n",
       "      <td>0.2060</td>\n",
       "      <td>0.07115</td>\n",
       "      <td>0</td>\n",
       "    </tr>\n",
       "    <tr>\n",
       "      <th>565</th>\n",
       "      <td>20.13</td>\n",
       "      <td>28.25</td>\n",
       "      <td>131.20</td>\n",
       "      <td>1261.0</td>\n",
       "      <td>0.09780</td>\n",
       "      <td>0.10340</td>\n",
       "      <td>0.14400</td>\n",
       "      <td>0.09791</td>\n",
       "      <td>0.1752</td>\n",
       "      <td>0.05533</td>\n",
       "      <td>...</td>\n",
       "      <td>38.25</td>\n",
       "      <td>155.00</td>\n",
       "      <td>1731.0</td>\n",
       "      <td>0.11660</td>\n",
       "      <td>0.19220</td>\n",
       "      <td>0.3215</td>\n",
       "      <td>0.1628</td>\n",
       "      <td>0.2572</td>\n",
       "      <td>0.06637</td>\n",
       "      <td>0</td>\n",
       "    </tr>\n",
       "    <tr>\n",
       "      <th>566</th>\n",
       "      <td>16.60</td>\n",
       "      <td>28.08</td>\n",
       "      <td>108.30</td>\n",
       "      <td>858.1</td>\n",
       "      <td>0.08455</td>\n",
       "      <td>0.10230</td>\n",
       "      <td>0.09251</td>\n",
       "      <td>0.05302</td>\n",
       "      <td>0.1590</td>\n",
       "      <td>0.05648</td>\n",
       "      <td>...</td>\n",
       "      <td>34.12</td>\n",
       "      <td>126.70</td>\n",
       "      <td>1124.0</td>\n",
       "      <td>0.11390</td>\n",
       "      <td>0.30940</td>\n",
       "      <td>0.3403</td>\n",
       "      <td>0.1418</td>\n",
       "      <td>0.2218</td>\n",
       "      <td>0.07820</td>\n",
       "      <td>0</td>\n",
       "    </tr>\n",
       "    <tr>\n",
       "      <th>567</th>\n",
       "      <td>20.60</td>\n",
       "      <td>29.33</td>\n",
       "      <td>140.10</td>\n",
       "      <td>1265.0</td>\n",
       "      <td>0.11780</td>\n",
       "      <td>0.27700</td>\n",
       "      <td>0.35140</td>\n",
       "      <td>0.15200</td>\n",
       "      <td>0.2397</td>\n",
       "      <td>0.07016</td>\n",
       "      <td>...</td>\n",
       "      <td>39.42</td>\n",
       "      <td>184.60</td>\n",
       "      <td>1821.0</td>\n",
       "      <td>0.16500</td>\n",
       "      <td>0.86810</td>\n",
       "      <td>0.9387</td>\n",
       "      <td>0.2650</td>\n",
       "      <td>0.4087</td>\n",
       "      <td>0.12400</td>\n",
       "      <td>0</td>\n",
       "    </tr>\n",
       "    <tr>\n",
       "      <th>568</th>\n",
       "      <td>7.76</td>\n",
       "      <td>24.54</td>\n",
       "      <td>47.92</td>\n",
       "      <td>181.0</td>\n",
       "      <td>0.05263</td>\n",
       "      <td>0.04362</td>\n",
       "      <td>0.00000</td>\n",
       "      <td>0.00000</td>\n",
       "      <td>0.1587</td>\n",
       "      <td>0.05884</td>\n",
       "      <td>...</td>\n",
       "      <td>30.37</td>\n",
       "      <td>59.16</td>\n",
       "      <td>268.6</td>\n",
       "      <td>0.08996</td>\n",
       "      <td>0.06444</td>\n",
       "      <td>0.0000</td>\n",
       "      <td>0.0000</td>\n",
       "      <td>0.2871</td>\n",
       "      <td>0.07039</td>\n",
       "      <td>1</td>\n",
       "    </tr>\n",
       "  </tbody>\n",
       "</table>\n",
       "<p>569 rows × 31 columns</p>\n",
       "</div>"
      ],
      "text/plain": [
       "     mean radius  mean texture  mean perimeter  mean area  mean smoothness  \\\n",
       "0          17.99         10.38          122.80     1001.0          0.11840   \n",
       "1          20.57         17.77          132.90     1326.0          0.08474   \n",
       "2          19.69         21.25          130.00     1203.0          0.10960   \n",
       "3          11.42         20.38           77.58      386.1          0.14250   \n",
       "4          20.29         14.34          135.10     1297.0          0.10030   \n",
       "..           ...           ...             ...        ...              ...   \n",
       "564        21.56         22.39          142.00     1479.0          0.11100   \n",
       "565        20.13         28.25          131.20     1261.0          0.09780   \n",
       "566        16.60         28.08          108.30      858.1          0.08455   \n",
       "567        20.60         29.33          140.10     1265.0          0.11780   \n",
       "568         7.76         24.54           47.92      181.0          0.05263   \n",
       "\n",
       "     mean compactness  mean concavity  mean concave points  mean symmetry  \\\n",
       "0             0.27760         0.30010              0.14710         0.2419   \n",
       "1             0.07864         0.08690              0.07017         0.1812   \n",
       "2             0.15990         0.19740              0.12790         0.2069   \n",
       "3             0.28390         0.24140              0.10520         0.2597   \n",
       "4             0.13280         0.19800              0.10430         0.1809   \n",
       "..                ...             ...                  ...            ...   \n",
       "564           0.11590         0.24390              0.13890         0.1726   \n",
       "565           0.10340         0.14400              0.09791         0.1752   \n",
       "566           0.10230         0.09251              0.05302         0.1590   \n",
       "567           0.27700         0.35140              0.15200         0.2397   \n",
       "568           0.04362         0.00000              0.00000         0.1587   \n",
       "\n",
       "     mean fractal dimension  ...  worst texture  worst perimeter  worst area  \\\n",
       "0                   0.07871  ...          17.33           184.60      2019.0   \n",
       "1                   0.05667  ...          23.41           158.80      1956.0   \n",
       "2                   0.05999  ...          25.53           152.50      1709.0   \n",
       "3                   0.09744  ...          26.50            98.87       567.7   \n",
       "4                   0.05883  ...          16.67           152.20      1575.0   \n",
       "..                      ...  ...            ...              ...         ...   \n",
       "564                 0.05623  ...          26.40           166.10      2027.0   \n",
       "565                 0.05533  ...          38.25           155.00      1731.0   \n",
       "566                 0.05648  ...          34.12           126.70      1124.0   \n",
       "567                 0.07016  ...          39.42           184.60      1821.0   \n",
       "568                 0.05884  ...          30.37            59.16       268.6   \n",
       "\n",
       "     worst smoothness  worst compactness  worst concavity  \\\n",
       "0             0.16220            0.66560           0.7119   \n",
       "1             0.12380            0.18660           0.2416   \n",
       "2             0.14440            0.42450           0.4504   \n",
       "3             0.20980            0.86630           0.6869   \n",
       "4             0.13740            0.20500           0.4000   \n",
       "..                ...                ...              ...   \n",
       "564           0.14100            0.21130           0.4107   \n",
       "565           0.11660            0.19220           0.3215   \n",
       "566           0.11390            0.30940           0.3403   \n",
       "567           0.16500            0.86810           0.9387   \n",
       "568           0.08996            0.06444           0.0000   \n",
       "\n",
       "     worst concave points  worst symmetry  worst fractal dimension  target  \n",
       "0                  0.2654          0.4601                  0.11890       0  \n",
       "1                  0.1860          0.2750                  0.08902       0  \n",
       "2                  0.2430          0.3613                  0.08758       0  \n",
       "3                  0.2575          0.6638                  0.17300       0  \n",
       "4                  0.1625          0.2364                  0.07678       0  \n",
       "..                    ...             ...                      ...     ...  \n",
       "564                0.2216          0.2060                  0.07115       0  \n",
       "565                0.1628          0.2572                  0.06637       0  \n",
       "566                0.1418          0.2218                  0.07820       0  \n",
       "567                0.2650          0.4087                  0.12400       0  \n",
       "568                0.0000          0.2871                  0.07039       1  \n",
       "\n",
       "[569 rows x 31 columns]"
      ]
     },
     "execution_count": 3,
     "metadata": {},
     "output_type": "execute_result"
    }
   ],
   "source": [
    "cancer_data=pd.DataFrame(breast_cancer_data.data, columns=breast_cancer_data.feature_names)\n",
    "cancer_data['target']=breast_cancer_data.target\n",
    "cancer_data"
   ]
  },
  {
   "cell_type": "markdown",
   "id": "2bc919d2",
   "metadata": {},
   "source": [
    "## 3. Model Building"
   ]
  },
  {
   "cell_type": "code",
   "execution_count": 4,
   "id": "993d0a1e",
   "metadata": {},
   "outputs": [],
   "source": [
    "X=cancer_data.drop('target', axis=1)\n",
    "y=cancer_data[['target']]"
   ]
  },
  {
   "cell_type": "code",
   "execution_count": 5,
   "id": "2ec427e6",
   "metadata": {},
   "outputs": [
    {
     "data": {
      "text/plain": [
       "((569, 30), (569, 1))"
      ]
     },
     "execution_count": 5,
     "metadata": {},
     "output_type": "execute_result"
    }
   ],
   "source": [
    "X.shape, y.shape"
   ]
  },
  {
   "cell_type": "code",
   "execution_count": 6,
   "id": "1e683351",
   "metadata": {},
   "outputs": [],
   "source": [
    "X_train, X_test, y_train, y_test=train_test_split(X,y, test_size=0.20, random_state=12, stratify=y)"
   ]
  },
  {
   "cell_type": "code",
   "execution_count": 7,
   "id": "c5231c6d",
   "metadata": {},
   "outputs": [
    {
     "data": {
      "text/plain": [
       "((455, 30), (455, 1))"
      ]
     },
     "execution_count": 7,
     "metadata": {},
     "output_type": "execute_result"
    }
   ],
   "source": [
    "X_train.shape, y_train.shape"
   ]
  },
  {
   "cell_type": "code",
   "execution_count": 8,
   "id": "0ef8ce51",
   "metadata": {},
   "outputs": [
    {
     "data": {
      "text/plain": [
       "((114, 30), (114, 1))"
      ]
     },
     "execution_count": 8,
     "metadata": {},
     "output_type": "execute_result"
    }
   ],
   "source": [
    "X_test.shape, y_test.shape"
   ]
  },
  {
   "cell_type": "code",
   "execution_count": 9,
   "id": "f1622169",
   "metadata": {},
   "outputs": [],
   "source": [
    "def run_RandomForestClassifier(X_train,y_train,X_test, y_test):\n",
    "    rf_classifier=RandomForestClassifier(random_state=12)\n",
    "    rf_classifier.fit(X_train, y_train) \n",
    "\n",
    "    y_pred=rf_classifier.predict(X_test)\n",
    "\n",
    "    print('Accuracy Score:', round(accuracy_score(y_test, y_pred),4))\n",
    "    print('Precision Score:', round(precision_score(y_test, y_pred),4))\n",
    "    print('Recall Score:', round(recall_score(y_test, y_pred),4))\n",
    "    print('Confusion Matrix:\\n', confusion_matrix(y_test, y_pred))"
   ]
  },
  {
   "cell_type": "code",
   "execution_count": 10,
   "id": "146b8d68",
   "metadata": {},
   "outputs": [
    {
     "name": "stdout",
     "output_type": "stream",
     "text": [
      "Accuracy Score: 0.9561\n",
      "Precision Score: 0.9718\n",
      "Recall Score: 0.9583\n",
      "Confusion Matrix:\n",
      " [[40  2]\n",
      " [ 3 69]]\n",
      "Wall time: 312 ms\n"
     ]
    }
   ],
   "source": [
    "%%time\n",
    "run_RandomForestClassifier(X_train,y_train,X_test, y_test) #30features"
   ]
  },
  {
   "cell_type": "markdown",
   "id": "1bd6b82b",
   "metadata": {},
   "source": [
    "# FEATURE SELECTION TECHNIQUES"
   ]
  },
  {
   "cell_type": "markdown",
   "id": "f4bfda44",
   "metadata": {},
   "source": [
    "## 1. SelectFromModel Technique "
   ]
  },
  {
   "cell_type": "code",
   "execution_count": 11,
   "id": "c8140328",
   "metadata": {},
   "outputs": [
    {
     "data": {
      "text/plain": [
       "SelectFromModel(estimator=RandomForestClassifier())"
      ]
     },
     "execution_count": 11,
     "metadata": {},
     "output_type": "execute_result"
    }
   ],
   "source": [
    "select_from_model=SelectFromModel(estimator=RandomForestClassifier(),max_features=None)\n",
    "select_from_model.fit(X_train,y_train)"
   ]
  },
  {
   "cell_type": "code",
   "execution_count": 12,
   "id": "ea4db963",
   "metadata": {},
   "outputs": [
    {
     "data": {
      "text/plain": [
       "array([ True, False,  True,  True, False, False,  True,  True, False,\n",
       "       False, False, False, False, False, False, False, False, False,\n",
       "       False, False,  True, False,  True,  True, False, False, False,\n",
       "        True, False, False])"
      ]
     },
     "execution_count": 12,
     "metadata": {},
     "output_type": "execute_result"
    }
   ],
   "source": [
    "select_from_model.get_support() #Boolian Values: True-Imp, False-Not_imp"
   ]
  },
  {
   "cell_type": "code",
   "execution_count": 13,
   "id": "c875ea25",
   "metadata": {},
   "outputs": [
    {
     "data": {
      "text/plain": [
       "Index(['mean radius', 'mean perimeter', 'mean area', 'mean concavity',\n",
       "       'mean concave points', 'worst radius', 'worst perimeter', 'worst area',\n",
       "       'worst concave points'],\n",
       "      dtype='object')"
      ]
     },
     "execution_count": 13,
     "metadata": {},
     "output_type": "execute_result"
    }
   ],
   "source": [
    "X_train.columns[select_from_model.get_support()]"
   ]
  },
  {
   "cell_type": "code",
   "execution_count": 14,
   "id": "471dee95",
   "metadata": {},
   "outputs": [],
   "source": [
    "X_train_selected=select_from_model.transform(X_train)\n",
    "X_test_selected=select_from_model.transform(X_test)"
   ]
  },
  {
   "cell_type": "code",
   "execution_count": 15,
   "id": "ff7afe36",
   "metadata": {},
   "outputs": [
    {
     "data": {
      "text/plain": [
       "(455, 9)"
      ]
     },
     "execution_count": 15,
     "metadata": {},
     "output_type": "execute_result"
    }
   ],
   "source": [
    "X_train_selected.shape"
   ]
  },
  {
   "cell_type": "code",
   "execution_count": 16,
   "id": "cf318391",
   "metadata": {},
   "outputs": [
    {
     "data": {
      "text/plain": [
       "(114, 9)"
      ]
     },
     "execution_count": 16,
     "metadata": {},
     "output_type": "execute_result"
    }
   ],
   "source": [
    "X_test_selected.shape"
   ]
  },
  {
   "cell_type": "code",
   "execution_count": 17,
   "id": "1a68f392",
   "metadata": {},
   "outputs": [
    {
     "name": "stdout",
     "output_type": "stream",
     "text": [
      "Accuracy Score: 0.9386\n",
      "Precision Score: 0.9577\n",
      "Recall Score: 0.9444\n",
      "Confusion Matrix:\n",
      " [[39  3]\n",
      " [ 4 68]]\n",
      "Wall time: 250 ms\n"
     ]
    }
   ],
   "source": [
    "%%time\n",
    "run_RandomForestClassifier(X_train_selected,y_train,X_test_selected, y_test) #9features"
   ]
  },
  {
   "cell_type": "markdown",
   "id": "df35366c",
   "metadata": {},
   "source": [
    "The feature reduction technique is not working here"
   ]
  },
  {
   "cell_type": "markdown",
   "id": "b3ee78bd",
   "metadata": {},
   "source": [
    "## 2. RFE- Recursive Feature Elemination"
   ]
  },
  {
   "cell_type": "code",
   "execution_count": 18,
   "id": "b9545096",
   "metadata": {},
   "outputs": [
    {
     "data": {
      "text/plain": [
       "RFE(estimator=RandomForestClassifier())"
      ]
     },
     "execution_count": 18,
     "metadata": {},
     "output_type": "execute_result"
    }
   ],
   "source": [
    "rfe_model=RFE(estimator=RandomForestClassifier(), n_features_to_select=None) #None- half of the features will be selected\n",
    "rfe_model.fit(X_train, y_train)"
   ]
  },
  {
   "cell_type": "code",
   "execution_count": 19,
   "id": "8ac1fea0",
   "metadata": {},
   "outputs": [
    {
     "data": {
      "text/plain": [
       "array([ True,  True,  True,  True, False, False,  True,  True, False,\n",
       "       False, False, False, False,  True, False, False, False, False,\n",
       "       False, False,  True,  True,  True,  True,  True, False,  True,\n",
       "        True,  True, False])"
      ]
     },
     "execution_count": 19,
     "metadata": {},
     "output_type": "execute_result"
    }
   ],
   "source": [
    "rfe_model.get_support()"
   ]
  },
  {
   "cell_type": "code",
   "execution_count": 20,
   "id": "f707c01b",
   "metadata": {},
   "outputs": [
    {
     "data": {
      "text/plain": [
       "Index(['mean radius', 'mean texture', 'mean perimeter', 'mean area',\n",
       "       'mean concavity', 'mean concave points', 'area error', 'worst radius',\n",
       "       'worst texture', 'worst perimeter', 'worst area', 'worst smoothness',\n",
       "       'worst concavity', 'worst concave points', 'worst symmetry'],\n",
       "      dtype='object')"
      ]
     },
     "execution_count": 20,
     "metadata": {},
     "output_type": "execute_result"
    }
   ],
   "source": [
    "X_train.columns[rfe_model.get_support()]"
   ]
  },
  {
   "cell_type": "code",
   "execution_count": 21,
   "id": "23ece81e",
   "metadata": {},
   "outputs": [
    {
     "data": {
      "text/plain": [
       "15"
      ]
     },
     "execution_count": 21,
     "metadata": {},
     "output_type": "execute_result"
    }
   ],
   "source": [
    "len(X_train.columns[rfe_model.get_support()])"
   ]
  },
  {
   "cell_type": "code",
   "execution_count": 22,
   "id": "e74bb352",
   "metadata": {},
   "outputs": [],
   "source": [
    "X_train_rfe=rfe_model.transform(X_train)\n",
    "X_test_rfe=rfe_model.transform(X_test)"
   ]
  },
  {
   "cell_type": "code",
   "execution_count": 23,
   "id": "8d98af6c",
   "metadata": {},
   "outputs": [
    {
     "data": {
      "text/plain": [
       "(455, 15)"
      ]
     },
     "execution_count": 23,
     "metadata": {},
     "output_type": "execute_result"
    }
   ],
   "source": [
    "X_train_rfe.shape"
   ]
  },
  {
   "cell_type": "code",
   "execution_count": 24,
   "id": "a5c7d448",
   "metadata": {},
   "outputs": [
    {
     "data": {
      "text/plain": [
       "(114, 15)"
      ]
     },
     "execution_count": 24,
     "metadata": {},
     "output_type": "execute_result"
    }
   ],
   "source": [
    "X_test_rfe.shape"
   ]
  },
  {
   "cell_type": "code",
   "execution_count": 25,
   "id": "70d8a45e",
   "metadata": {},
   "outputs": [
    {
     "name": "stdout",
     "output_type": "stream",
     "text": [
      "Accuracy Score: 0.9561\n",
      "Precision Score: 0.9589\n",
      "Recall Score: 0.9722\n",
      "Confusion Matrix:\n",
      " [[39  3]\n",
      " [ 2 70]]\n",
      "Wall time: 281 ms\n"
     ]
    }
   ],
   "source": [
    "%%time\n",
    "run_RandomForestClassifier(X_train_rfe, y_train, X_test_rfe, y_test)"
   ]
  },
  {
   "cell_type": "markdown",
   "id": "f98639fb",
   "metadata": {},
   "source": [
    "## Pick up the important features of Gradient boosting Algorithm and train it with RF Classifier"
   ]
  },
  {
   "cell_type": "code",
   "execution_count": 35,
   "id": "8b27ecae",
   "metadata": {},
   "outputs": [
    {
     "data": {
      "text/plain": [
       "RFE(estimator=GradientBoostingClassifier(random_state=12),\n",
       "    n_features_to_select=12)"
      ]
     },
     "execution_count": 35,
     "metadata": {},
     "output_type": "execute_result"
    }
   ],
   "source": [
    "rfe_model=RFE(estimator=GradientBoostingClassifier(random_state=12), n_features_to_select=12) #None- half of the features will be selected\n",
    "rfe_model.fit(X_train, y_train)"
   ]
  },
  {
   "cell_type": "code",
   "execution_count": 36,
   "id": "611473aa",
   "metadata": {},
   "outputs": [
    {
     "data": {
      "text/plain": [
       "array([False,  True, False,  True, False, False,  True,  True, False,\n",
       "       False, False, False, False,  True, False, False,  True, False,\n",
       "       False,  True, False,  True, False,  True, False, False,  True,\n",
       "        True,  True, False])"
      ]
     },
     "execution_count": 36,
     "metadata": {},
     "output_type": "execute_result"
    }
   ],
   "source": [
    "rfe_model.get_support()"
   ]
  },
  {
   "cell_type": "code",
   "execution_count": 37,
   "id": "d305c788",
   "metadata": {},
   "outputs": [
    {
     "data": {
      "text/plain": [
       "Index(['mean texture', 'mean area', 'mean concavity', 'mean concave points',\n",
       "       'area error', 'concavity error', 'fractal dimension error',\n",
       "       'worst texture', 'worst area', 'worst concavity',\n",
       "       'worst concave points', 'worst symmetry'],\n",
       "      dtype='object')"
      ]
     },
     "execution_count": 37,
     "metadata": {},
     "output_type": "execute_result"
    }
   ],
   "source": [
    "X_train.columns[rfe_model.get_support()]"
   ]
  },
  {
   "cell_type": "code",
   "execution_count": 38,
   "id": "ef41c348",
   "metadata": {},
   "outputs": [
    {
     "data": {
      "text/plain": [
       "12"
      ]
     },
     "execution_count": 38,
     "metadata": {},
     "output_type": "execute_result"
    }
   ],
   "source": [
    "len(X_train.columns[rfe_model.get_support()])"
   ]
  },
  {
   "cell_type": "code",
   "execution_count": 39,
   "id": "03d17505",
   "metadata": {},
   "outputs": [],
   "source": [
    "X_train_rfe=rfe_model.transform(X_train)\n",
    "X_test_rfe=rfe_model.transform(X_test)"
   ]
  },
  {
   "cell_type": "code",
   "execution_count": 40,
   "id": "20816a2b",
   "metadata": {},
   "outputs": [
    {
     "data": {
      "text/plain": [
       "(455, 12)"
      ]
     },
     "execution_count": 40,
     "metadata": {},
     "output_type": "execute_result"
    }
   ],
   "source": [
    "X_train_rfe.shape"
   ]
  },
  {
   "cell_type": "code",
   "execution_count": 41,
   "id": "55b57b1e",
   "metadata": {},
   "outputs": [
    {
     "data": {
      "text/plain": [
       "(114, 12)"
      ]
     },
     "execution_count": 41,
     "metadata": {},
     "output_type": "execute_result"
    }
   ],
   "source": [
    "X_test_rfe.shape"
   ]
  },
  {
   "cell_type": "code",
   "execution_count": 42,
   "id": "02e376a0",
   "metadata": {},
   "outputs": [
    {
     "name": "stdout",
     "output_type": "stream",
     "text": [
      "Accuracy Score: 0.9649\n",
      "Precision Score: 0.9722\n",
      "Recall Score: 0.9722\n",
      "Confusion Matrix:\n",
      " [[40  2]\n",
      " [ 2 70]]\n",
      "Wall time: 278 ms\n"
     ]
    }
   ],
   "source": [
    "%%time\n",
    "run_RandomForestClassifier(X_train_rfe, y_train, X_test_rfe, y_test)"
   ]
  },
  {
   "cell_type": "markdown",
   "id": "3220d7e1",
   "metadata": {},
   "source": [
    "## How to decide the optimal number of features for training?"
   ]
  },
  {
   "cell_type": "code",
   "execution_count": 43,
   "id": "6d6d4016",
   "metadata": {},
   "outputs": [
    {
     "name": "stdout",
     "output_type": "stream",
     "text": [
      "selected Features: 1\n",
      "Accuracy Score: 0.8158\n",
      "Precision Score: 0.8696\n",
      "Recall Score: 0.8333\n",
      "Confusion Matrix:\n",
      " [[33  9]\n",
      " [12 60]]\n",
      "******************************\n",
      "selected Features: 2\n",
      "Accuracy Score: 0.9035\n",
      "Precision Score: 0.9296\n",
      "Recall Score: 0.9167\n",
      "Confusion Matrix:\n",
      " [[37  5]\n",
      " [ 6 66]]\n",
      "******************************\n",
      "selected Features: 3\n",
      "Accuracy Score: 0.9211\n",
      "Precision Score: 0.9315\n",
      "Recall Score: 0.9444\n",
      "Confusion Matrix:\n",
      " [[37  5]\n",
      " [ 4 68]]\n",
      "******************************\n",
      "selected Features: 4\n",
      "Accuracy Score: 0.9649\n",
      "Precision Score: 0.9595\n",
      "Recall Score: 0.9861\n",
      "Confusion Matrix:\n",
      " [[39  3]\n",
      " [ 1 71]]\n",
      "******************************\n",
      "selected Features: 5\n",
      "Accuracy Score: 0.9474\n",
      "Precision Score: 0.9583\n",
      "Recall Score: 0.9583\n",
      "Confusion Matrix:\n",
      " [[39  3]\n",
      " [ 3 69]]\n",
      "******************************\n",
      "selected Features: 6\n",
      "Accuracy Score: 0.9561\n",
      "Precision Score: 0.9718\n",
      "Recall Score: 0.9583\n",
      "Confusion Matrix:\n",
      " [[40  2]\n",
      " [ 3 69]]\n",
      "******************************\n",
      "selected Features: 7\n",
      "Accuracy Score: 0.9737\n",
      "Precision Score: 0.9726\n",
      "Recall Score: 0.9861\n",
      "Confusion Matrix:\n",
      " [[40  2]\n",
      " [ 1 71]]\n",
      "******************************\n",
      "selected Features: 8\n",
      "Accuracy Score: 0.9474\n",
      "Precision Score: 0.9583\n",
      "Recall Score: 0.9583\n",
      "Confusion Matrix:\n",
      " [[39  3]\n",
      " [ 3 69]]\n",
      "******************************\n",
      "selected Features: 9\n",
      "Accuracy Score: 0.9737\n",
      "Precision Score: 0.9726\n",
      "Recall Score: 0.9861\n",
      "Confusion Matrix:\n",
      " [[40  2]\n",
      " [ 1 71]]\n",
      "******************************\n",
      "selected Features: 10\n",
      "Accuracy Score: 0.9649\n",
      "Precision Score: 0.9722\n",
      "Recall Score: 0.9722\n",
      "Confusion Matrix:\n",
      " [[40  2]\n",
      " [ 2 70]]\n",
      "******************************\n",
      "selected Features: 11\n",
      "Accuracy Score: 0.9649\n",
      "Precision Score: 0.9722\n",
      "Recall Score: 0.9722\n",
      "Confusion Matrix:\n",
      " [[40  2]\n",
      " [ 2 70]]\n",
      "******************************\n",
      "selected Features: 12\n",
      "Accuracy Score: 0.9649\n",
      "Precision Score: 0.9722\n",
      "Recall Score: 0.9722\n",
      "Confusion Matrix:\n",
      " [[40  2]\n",
      " [ 2 70]]\n",
      "******************************\n",
      "selected Features: 13\n",
      "Accuracy Score: 0.9561\n",
      "Precision Score: 0.9718\n",
      "Recall Score: 0.9583\n",
      "Confusion Matrix:\n",
      " [[40  2]\n",
      " [ 3 69]]\n",
      "******************************\n",
      "selected Features: 14\n",
      "Accuracy Score: 0.9474\n",
      "Precision Score: 0.9714\n",
      "Recall Score: 0.9444\n",
      "Confusion Matrix:\n",
      " [[40  2]\n",
      " [ 4 68]]\n",
      "******************************\n",
      "selected Features: 15\n",
      "Accuracy Score: 0.9649\n",
      "Precision Score: 0.9722\n",
      "Recall Score: 0.9722\n",
      "Confusion Matrix:\n",
      " [[40  2]\n",
      " [ 2 70]]\n",
      "******************************\n",
      "selected Features: 16\n",
      "Accuracy Score: 0.9649\n",
      "Precision Score: 0.9722\n",
      "Recall Score: 0.9722\n",
      "Confusion Matrix:\n",
      " [[40  2]\n",
      " [ 2 70]]\n",
      "******************************\n",
      "selected Features: 17\n",
      "Accuracy Score: 0.9649\n",
      "Precision Score: 0.9722\n",
      "Recall Score: 0.9722\n",
      "Confusion Matrix:\n",
      " [[40  2]\n",
      " [ 2 70]]\n",
      "******************************\n",
      "selected Features: 18\n",
      "Accuracy Score: 0.9561\n",
      "Precision Score: 0.9718\n",
      "Recall Score: 0.9583\n",
      "Confusion Matrix:\n",
      " [[40  2]\n",
      " [ 3 69]]\n",
      "******************************\n",
      "selected Features: 19\n",
      "Accuracy Score: 0.9561\n",
      "Precision Score: 0.9718\n",
      "Recall Score: 0.9583\n",
      "Confusion Matrix:\n",
      " [[40  2]\n",
      " [ 3 69]]\n",
      "******************************\n",
      "selected Features: 20\n",
      "Accuracy Score: 0.9737\n",
      "Precision Score: 0.9726\n",
      "Recall Score: 0.9861\n",
      "Confusion Matrix:\n",
      " [[40  2]\n",
      " [ 1 71]]\n",
      "******************************\n",
      "selected Features: 21\n",
      "Accuracy Score: 0.9474\n",
      "Precision Score: 0.9583\n",
      "Recall Score: 0.9583\n",
      "Confusion Matrix:\n",
      " [[39  3]\n",
      " [ 3 69]]\n",
      "******************************\n",
      "selected Features: 22\n",
      "Accuracy Score: 0.9649\n",
      "Precision Score: 0.9722\n",
      "Recall Score: 0.9722\n",
      "Confusion Matrix:\n",
      " [[40  2]\n",
      " [ 2 70]]\n",
      "******************************\n",
      "selected Features: 23\n",
      "Accuracy Score: 0.9649\n",
      "Precision Score: 0.9722\n",
      "Recall Score: 0.9722\n",
      "Confusion Matrix:\n",
      " [[40  2]\n",
      " [ 2 70]]\n",
      "******************************\n",
      "selected Features: 24\n",
      "Accuracy Score: 0.9561\n",
      "Precision Score: 0.9718\n",
      "Recall Score: 0.9583\n",
      "Confusion Matrix:\n",
      " [[40  2]\n",
      " [ 3 69]]\n",
      "******************************\n",
      "selected Features: 25\n",
      "Accuracy Score: 0.9649\n",
      "Precision Score: 0.9722\n",
      "Recall Score: 0.9722\n",
      "Confusion Matrix:\n",
      " [[40  2]\n",
      " [ 2 70]]\n",
      "******************************\n",
      "selected Features: 26\n",
      "Accuracy Score: 0.9561\n",
      "Precision Score: 0.9718\n",
      "Recall Score: 0.9583\n",
      "Confusion Matrix:\n",
      " [[40  2]\n",
      " [ 3 69]]\n",
      "******************************\n",
      "selected Features: 27\n",
      "Accuracy Score: 0.9561\n",
      "Precision Score: 0.9718\n",
      "Recall Score: 0.9583\n",
      "Confusion Matrix:\n",
      " [[40  2]\n",
      " [ 3 69]]\n",
      "******************************\n",
      "selected Features: 28\n",
      "Accuracy Score: 0.9561\n",
      "Precision Score: 0.9718\n",
      "Recall Score: 0.9583\n",
      "Confusion Matrix:\n",
      " [[40  2]\n",
      " [ 3 69]]\n",
      "******************************\n",
      "selected Features: 29\n",
      "Accuracy Score: 0.9561\n",
      "Precision Score: 0.9718\n",
      "Recall Score: 0.9583\n",
      "Confusion Matrix:\n",
      " [[40  2]\n",
      " [ 3 69]]\n",
      "******************************\n",
      "selected Features: 30\n",
      "Accuracy Score: 0.9561\n",
      "Precision Score: 0.9718\n",
      "Recall Score: 0.9583\n",
      "Confusion Matrix:\n",
      " [[40  2]\n",
      " [ 3 69]]\n",
      "******************************\n"
     ]
    }
   ],
   "source": [
    "for i in range(1,31):\n",
    "    rfe_model=RFE(estimator=GradientBoostingClassifier(random_state=12), n_features_to_select=i) \n",
    "    rfe_model.fit(X_train, y_train)\n",
    "    X_train_rfe_selected=rfe_model.transform(X_train)\n",
    "    X_test_rfe_selected=rfe_model.transform(X_test)\n",
    "    print(\"selected Features:\",i)\n",
    "    run_RandomForestClassifier(X_train_rfe_selected, y_train, X_test_rfe_selected, y_test)\n",
    "    print('******************************')"
   ]
  },
  {
   "cell_type": "code",
   "execution_count": 44,
   "id": "a3ae86e0",
   "metadata": {},
   "outputs": [
    {
     "data": {
      "text/plain": [
       "RFE(estimator=GradientBoostingClassifier(random_state=12),\n",
       "    n_features_to_select=7)"
      ]
     },
     "execution_count": 44,
     "metadata": {},
     "output_type": "execute_result"
    }
   ],
   "source": [
    "rfe_model=RFE(estimator=GradientBoostingClassifier(random_state=12), n_features_to_select=7) \n",
    "rfe_model.fit(X_train, y_train)\n",
    "   "
   ]
  },
  {
   "cell_type": "code",
   "execution_count": 45,
   "id": "f1a17061",
   "metadata": {},
   "outputs": [
    {
     "data": {
      "text/plain": [
       "Index(['mean texture', 'mean concavity', 'mean concave points', 'area error',\n",
       "       'worst texture', 'worst area', 'worst concave points'],\n",
       "      dtype='object')"
      ]
     },
     "execution_count": 45,
     "metadata": {},
     "output_type": "execute_result"
    }
   ],
   "source": [
    "X_train.columns[rfe_model.get_support()]"
   ]
  },
  {
   "cell_type": "code",
   "execution_count": 46,
   "id": "82d2d0ae",
   "metadata": {},
   "outputs": [],
   "source": [
    "X_train_rfe_selected=rfe_model.transform(X_train)\n",
    "X_test_rfe_selected=rfe_model.transform(X_test)"
   ]
  },
  {
   "cell_type": "code",
   "execution_count": 47,
   "id": "2375edf3",
   "metadata": {},
   "outputs": [
    {
     "data": {
      "text/plain": [
       "(455, 7)"
      ]
     },
     "execution_count": 47,
     "metadata": {},
     "output_type": "execute_result"
    }
   ],
   "source": [
    "X_train_rfe_selected.shape"
   ]
  },
  {
   "cell_type": "code",
   "execution_count": 48,
   "id": "7bd0274d",
   "metadata": {},
   "outputs": [
    {
     "data": {
      "text/plain": [
       "(114, 7)"
      ]
     },
     "execution_count": 48,
     "metadata": {},
     "output_type": "execute_result"
    }
   ],
   "source": [
    "X_test_rfe_selected.shape"
   ]
  },
  {
   "cell_type": "code",
   "execution_count": 49,
   "id": "372f0c8c",
   "metadata": {},
   "outputs": [
    {
     "name": "stdout",
     "output_type": "stream",
     "text": [
      "Accuracy Score: 0.9737\n",
      "Precision Score: 0.9726\n",
      "Recall Score: 0.9861\n",
      "Confusion Matrix:\n",
      " [[40  2]\n",
      " [ 1 71]]\n",
      "Wall time: 275 ms\n"
     ]
    }
   ],
   "source": [
    "%%time\n",
    "run_RandomForestClassifier(X_train_rfe_selected, y_train, X_test_rfe_selected, y_test)"
   ]
  },
  {
   "cell_type": "code",
   "execution_count": 50,
   "id": "1babc3c7",
   "metadata": {},
   "outputs": [
    {
     "name": "stdout",
     "output_type": "stream",
     "text": [
      "Accuracy Score: 0.9561\n",
      "Precision Score: 0.9718\n",
      "Recall Score: 0.9583\n",
      "Confusion Matrix:\n",
      " [[40  2]\n",
      " [ 3 69]]\n",
      "Wall time: 338 ms\n"
     ]
    }
   ],
   "source": [
    "%%time\n",
    "run_RandomForestClassifier(X_train, y_train, X_test, y_test)"
   ]
  },
  {
   "cell_type": "markdown",
   "id": "4e27abef",
   "metadata": {},
   "source": [
    "## The END!!!"
   ]
  }
 ],
 "metadata": {
  "kernelspec": {
   "display_name": "Python 3",
   "language": "python",
   "name": "python3"
  },
  "language_info": {
   "codemirror_mode": {
    "name": "ipython",
    "version": 3
   },
   "file_extension": ".py",
   "mimetype": "text/x-python",
   "name": "python",
   "nbconvert_exporter": "python",
   "pygments_lexer": "ipython3",
   "version": "3.8.8"
  }
 },
 "nbformat": 4,
 "nbformat_minor": 5
}
